{
 "cells": [
  {
   "cell_type": "markdown",
   "id": "38f0df66",
   "metadata": {},
   "source": [
    "# Idea\n",
    "\n",
    "Predict returns from prices and volume traded at previous periods using various models."
   ]
  },
  {
   "cell_type": "markdown",
   "id": "3e82310e",
   "metadata": {},
   "source": [
    "# Imports"
   ]
  },
  {
   "cell_type": "code",
   "execution_count": null,
   "id": "5f55575d",
   "metadata": {},
   "outputs": [],
   "source": [
    "from ipynb.fs.full.utility_functions import (\n",
    "    get_price_data,\n",
    "    get_binance_px,\n",
    ")"
   ]
  },
  {
   "cell_type": "markdown",
   "id": "f8469b8a",
   "metadata": {},
   "source": [
    "# Get Historical Data For Cryptocurrencies"
   ]
  },
  {
   "cell_type": "code",
   "execution_count": null,
   "id": "47657fbb",
   "metadata": {},
   "outputs": [],
   "source": [
    "# The universe is based on this snapshot from December 20, 2020: https://coinmarketcap.com/historical/20201220/\n",
    "\n",
    "univ = [\n",
    "    \"BTCUSDT\", \"ETHUSDT\", \"ADAUSDT\", \"BNBUSDT\", \"XRPUSDT\", \"DOTUSDT\", \"MATICUSDT\", \"LTCUSDT\", \"BCHUSDT\",\n",
    "    \"LINKUSDT\", \"XLMUSDT\", \"USDCUSDT\", \"EOSUSDT\", \"TRXUSDT\", \"XTZUSDT\", \"FILUSDT\", \"NEOUSDT\", \"DAIUSDT\",\n",
    "    \"DASHUSDT\", \"VETUSDT\", \"ATOMUSDT\", \"AAVEUSDT\", \"UNIUSDT\", \"GRTUSDT\", \"THETAUSDT\", \"IOTAUSDT\", \"BUSDUSDT\",\n",
    "    \"ZECUSDT\", \"YFIUSDT\", \"ETCUSDT\", \"WAVESUSDT\", \"COMPUSDT\", \"SNXUSDT\", \"DOGEUSDT\", \"MKRUSDT\", \"ZILUSDT\",\n",
    "    \"SUSHIUSDT\", \"KSMUSDT\", \"OMGUSDT\", \"ONTUSDT\", \"ALGOUSDT\", \"EGLDUSDT\", \"BATUSDT\", \"DGBUSDT\", \"ZRXUSDT\",\n",
    "    \"TUSDUSDT\", \"QTUMUSDT\", \"ICXUSDT\", \"AVAXUSDT\", \"RENUSDT\", \"HBARUSDT\", \"NEARUSDT\", \"LRCUSDT\", \"CELOUSDT\",\n",
    "    \"KNCUSDT\", \"LSKUSDT\", \"OCEANUSDT\", \"QNTUSDT\", \"USTUSDT\", \"BANDUSDT\", \"MANAUSDT\", \"ENJUSDT\", \"ANTUSDT\",\n",
    "    \"BNTUSDT\", \"ZENUSDT\", \"NMRUSDT\", \"RVNUSDT\", \"IOSTUSDT\", \"OXTUSDT\", \"CRVUSDT\", \"MATICUSDT\", \"HNTUSDT\",\n",
    "    \"BALUSDT\", \"CHZUSDT\"\n",
    "]\n",
    "\n",
    "# px = get_price_data(univ, '4h', False, './class_project_input_prices.csv')\n",
    "# px"
   ]
  },
  {
   "cell_type": "code",
   "execution_count": null,
   "id": "d8ff784c",
   "metadata": {},
   "outputs": [],
   "source": [
    "# popular_univ = univ[[\"BTCUSDT\", \"ETHUSDT\", \"ADAUSDT\", \"BNBUSDT\", \"XRPUSDT\"]]"
   ]
  },
  {
   "cell_type": "code",
   "execution_count": null,
   "id": "8c60b30c",
   "metadata": {},
   "outputs": [],
   "source": [
    "from binance.client import Client as bnb_client\n",
    "\n",
    "client = bnb_client(tld='US')\n",
    "px = {}\n",
    "freq = '4h'\n",
    "\n",
    "univ = []\n",
    "\n",
    "for x in univ:\n",
    "    print(f\"Downloading data for symbol {x}\")\n",
    "    data = get_binance_px(client, x, freq)\n",
    "    px[x] = data.set_index('open_time')['close']\n",
    "\n",
    "px = pd.DataFrame(px).astype(float)"
   ]
  }
 ],
 "metadata": {
  "kernelspec": {
   "display_name": "Python 3 (ipykernel)",
   "language": "python",
   "name": "python3"
  },
  "language_info": {
   "codemirror_mode": {
    "name": "ipython",
    "version": 3
   },
   "file_extension": ".py",
   "mimetype": "text/x-python",
   "name": "python",
   "nbconvert_exporter": "python",
   "pygments_lexer": "ipython3",
   "version": "3.11.5"
  }
 },
 "nbformat": 4,
 "nbformat_minor": 5
}
