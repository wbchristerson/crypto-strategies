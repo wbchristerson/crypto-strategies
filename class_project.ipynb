{
 "cells": [
  {
   "cell_type": "markdown",
   "id": "ce79e853",
   "metadata": {},
   "source": [
    "# Summary"
   ]
  },
  {
   "cell_type": "markdown",
   "id": "36e12372",
   "metadata": {},
   "source": [
    "Strategies with strong results:\n",
    "  - Strategy 9: Multiple-Period Reversal Signal Traded Every Period"
   ]
  },
  {
   "cell_type": "markdown",
   "id": "857324ad",
   "metadata": {},
   "source": [
    "# Get Historical Data For Cryptocurrencies"
   ]
  },
  {
   "cell_type": "code",
   "execution_count": 2,
   "id": "0e4f44d7",
   "metadata": {},
   "outputs": [
    {
     "name": "stdout",
     "output_type": "stream",
     "text": [
      "Intel MKL WARNING: Support of Intel(R) Streaming SIMD Extensions 4.2 (Intel(R) SSE4.2) enabled only processors has been deprecated. Intel oneAPI Math Kernel Library 2025.0 will require Intel(R) Advanced Vector Extensions (Intel(R) AVX) instructions.\n",
      "Intel MKL WARNING: Support of Intel(R) Streaming SIMD Extensions 4.2 (Intel(R) SSE4.2) enabled only processors has been deprecated. Intel oneAPI Math Kernel Library 2025.0 will require Intel(R) Advanced Vector Extensions (Intel(R) AVX) instructions.\n"
     ]
    }
   ],
   "source": [
    "from binance.client import Client as bnb_client\n",
    "from datetime import datetime\n",
    "import pandas as pd\n",
    "\n",
    "# The universe is based on this snapshot from December 20, 2020: https://coinmarketcap.com/historical/20201220/\n",
    "\n",
    "univ = [\n",
    "    \"BTCUSDT\", \"ETHUSDT\", \"ADAUSDT\", \"BNBUSDT\", \"XRPUSDT\", \"DOTUSDT\", \"MATICUSDT\", \"LTCUSDT\", \"BCHUSDT\",\n",
    "    \"LINKUSDT\", \"XLMUSDT\", \"USDCUSDT\", \"EOSUSDT\", \"TRXUSDT\", \"XTZUSDT\", \"FILUSDT\", \"NEOUSDT\", \"DAIUSDT\",\n",
    "    \"DASHUSDT\", \"VETUSDT\", \"ATOMUSDT\", \"AAVEUSDT\", \"UNIUSDT\", \"GRTUSDT\", \"THETAUSDT\", \"IOTAUSDT\", \"BUSDUSDT\",\n",
    "    \"ZECUSDT\", \"YFIUSDT\", \"ETCUSDT\", \"WAVESUSDT\", \"COMPUSDT\", \"SNXUSDT\", \"DOGEUSDT\", \"MKRUSDT\", \"ZILUSDT\",\n",
    "    \"SUSHIUSDT\", \"KSMUSDT\", \"OMGUSDT\", \"ONTUSDT\", \"ALGOUSDT\", \"EGLDUSDT\", \"BATUSDT\", \"DGBUSDT\", \"ZRXUSDT\",\n",
    "    \"TUSDUSDT\", \"QTUMUSDT\", \"ICXUSDT\", \"AVAXUSDT\", \"RENUSDT\", \"HBARUSDT\", \"NEARUSDT\", \"LRCUSDT\", \"CELOUSDT\",\n",
    "    \"KNCUSDT\", \"LSKUSDT\", \"OCEANUSDT\", \"QNTUSDT\", \"USTUSDT\", \"BANDUSDT\", \"MANAUSDT\", \"ENJUSDT\", \"ANTUSDT\",\n",
    "    \"BNTUSDT\", \"ZENUSDT\", \"NMRUSDT\", \"RVNUSDT\", \"IOSTUSDT\", \"OXTUSDT\", \"CRVUSDT\", \"MATICUSDT\", \"HNTUSDT\",\n",
    "    \"BALUSDT\", \"CHZUSDT\"\n",
    "]\n",
    "\n",
    "should_download_stock_data = False"
   ]
  },
  {
   "cell_type": "code",
   "execution_count": 3,
   "id": "eb9a6162",
   "metadata": {},
   "outputs": [
    {
     "data": {
      "text/html": [
       "<div>\n",
       "<style scoped>\n",
       "    .dataframe tbody tr th:only-of-type {\n",
       "        vertical-align: middle;\n",
       "    }\n",
       "\n",
       "    .dataframe tbody tr th {\n",
       "        vertical-align: top;\n",
       "    }\n",
       "\n",
       "    .dataframe thead th {\n",
       "        text-align: right;\n",
       "    }\n",
       "</style>\n",
       "<table border=\"1\" class=\"dataframe\">\n",
       "  <thead>\n",
       "    <tr style=\"text-align: right;\">\n",
       "      <th></th>\n",
       "      <th>BTCUSDT</th>\n",
       "      <th>ETHUSDT</th>\n",
       "      <th>ADAUSDT</th>\n",
       "      <th>BNBUSDT</th>\n",
       "      <th>XRPUSDT</th>\n",
       "      <th>DOTUSDT</th>\n",
       "      <th>MATICUSDT</th>\n",
       "      <th>LTCUSDT</th>\n",
       "      <th>BCHUSDT</th>\n",
       "      <th>LINKUSDT</th>\n",
       "      <th>...</th>\n",
       "      <th>BNTUSDT</th>\n",
       "      <th>ZENUSDT</th>\n",
       "      <th>NMRUSDT</th>\n",
       "      <th>RVNUSDT</th>\n",
       "      <th>IOSTUSDT</th>\n",
       "      <th>OXTUSDT</th>\n",
       "      <th>CRVUSDT</th>\n",
       "      <th>HNTUSDT</th>\n",
       "      <th>BALUSDT</th>\n",
       "      <th>CHZUSDT</th>\n",
       "    </tr>\n",
       "    <tr>\n",
       "      <th>open_time</th>\n",
       "      <th></th>\n",
       "      <th></th>\n",
       "      <th></th>\n",
       "      <th></th>\n",
       "      <th></th>\n",
       "      <th></th>\n",
       "      <th></th>\n",
       "      <th></th>\n",
       "      <th></th>\n",
       "      <th></th>\n",
       "      <th></th>\n",
       "      <th></th>\n",
       "      <th></th>\n",
       "      <th></th>\n",
       "      <th></th>\n",
       "      <th></th>\n",
       "      <th></th>\n",
       "      <th></th>\n",
       "      <th></th>\n",
       "      <th></th>\n",
       "      <th></th>\n",
       "    </tr>\n",
       "  </thead>\n",
       "  <tbody>\n",
       "    <tr>\n",
       "      <th>2020-12-20 00:00:00</th>\n",
       "      <td>23353.97</td>\n",
       "      <td>646.62</td>\n",
       "      <td>0.16284</td>\n",
       "      <td>32.9681</td>\n",
       "      <td>0.56944</td>\n",
       "      <td>NaN</td>\n",
       "      <td>NaN</td>\n",
       "      <td>117.34</td>\n",
       "      <td>313.46</td>\n",
       "      <td>NaN</td>\n",
       "      <td>...</td>\n",
       "      <td>NaN</td>\n",
       "      <td>12.056</td>\n",
       "      <td>NaN</td>\n",
       "      <td>NaN</td>\n",
       "      <td>NaN</td>\n",
       "      <td>0.2492</td>\n",
       "      <td>NaN</td>\n",
       "      <td>1.41095</td>\n",
       "      <td>NaN</td>\n",
       "      <td>NaN</td>\n",
       "    </tr>\n",
       "    <tr>\n",
       "      <th>2020-12-20 04:00:00</th>\n",
       "      <td>23604.24</td>\n",
       "      <td>655.23</td>\n",
       "      <td>0.16638</td>\n",
       "      <td>33.6559</td>\n",
       "      <td>0.57916</td>\n",
       "      <td>NaN</td>\n",
       "      <td>NaN</td>\n",
       "      <td>121.30</td>\n",
       "      <td>340.00</td>\n",
       "      <td>NaN</td>\n",
       "      <td>...</td>\n",
       "      <td>NaN</td>\n",
       "      <td>12.107</td>\n",
       "      <td>NaN</td>\n",
       "      <td>NaN</td>\n",
       "      <td>NaN</td>\n",
       "      <td>0.2477</td>\n",
       "      <td>NaN</td>\n",
       "      <td>1.43156</td>\n",
       "      <td>NaN</td>\n",
       "      <td>NaN</td>\n",
       "    </tr>\n",
       "    <tr>\n",
       "      <th>2020-12-20 08:00:00</th>\n",
       "      <td>23549.50</td>\n",
       "      <td>652.88</td>\n",
       "      <td>0.16463</td>\n",
       "      <td>34.8228</td>\n",
       "      <td>0.57948</td>\n",
       "      <td>NaN</td>\n",
       "      <td>NaN</td>\n",
       "      <td>118.09</td>\n",
       "      <td>349.70</td>\n",
       "      <td>NaN</td>\n",
       "      <td>...</td>\n",
       "      <td>NaN</td>\n",
       "      <td>12.237</td>\n",
       "      <td>NaN</td>\n",
       "      <td>NaN</td>\n",
       "      <td>NaN</td>\n",
       "      <td>0.2477</td>\n",
       "      <td>NaN</td>\n",
       "      <td>1.44273</td>\n",
       "      <td>NaN</td>\n",
       "      <td>NaN</td>\n",
       "    </tr>\n",
       "    <tr>\n",
       "      <th>2020-12-20 12:00:00</th>\n",
       "      <td>23880.85</td>\n",
       "      <td>653.24</td>\n",
       "      <td>0.16542</td>\n",
       "      <td>35.0120</td>\n",
       "      <td>0.57798</td>\n",
       "      <td>NaN</td>\n",
       "      <td>NaN</td>\n",
       "      <td>119.10</td>\n",
       "      <td>361.21</td>\n",
       "      <td>NaN</td>\n",
       "      <td>...</td>\n",
       "      <td>NaN</td>\n",
       "      <td>12.074</td>\n",
       "      <td>NaN</td>\n",
       "      <td>NaN</td>\n",
       "      <td>NaN</td>\n",
       "      <td>0.2533</td>\n",
       "      <td>NaN</td>\n",
       "      <td>1.47130</td>\n",
       "      <td>NaN</td>\n",
       "      <td>NaN</td>\n",
       "    </tr>\n",
       "    <tr>\n",
       "      <th>2020-12-20 16:00:00</th>\n",
       "      <td>23932.71</td>\n",
       "      <td>649.82</td>\n",
       "      <td>0.16502</td>\n",
       "      <td>34.7042</td>\n",
       "      <td>0.57306</td>\n",
       "      <td>NaN</td>\n",
       "      <td>NaN</td>\n",
       "      <td>116.60</td>\n",
       "      <td>357.09</td>\n",
       "      <td>NaN</td>\n",
       "      <td>...</td>\n",
       "      <td>NaN</td>\n",
       "      <td>12.008</td>\n",
       "      <td>NaN</td>\n",
       "      <td>NaN</td>\n",
       "      <td>NaN</td>\n",
       "      <td>0.2503</td>\n",
       "      <td>NaN</td>\n",
       "      <td>1.43083</td>\n",
       "      <td>NaN</td>\n",
       "      <td>NaN</td>\n",
       "    </tr>\n",
       "    <tr>\n",
       "      <th>...</th>\n",
       "      <td>...</td>\n",
       "      <td>...</td>\n",
       "      <td>...</td>\n",
       "      <td>...</td>\n",
       "      <td>...</td>\n",
       "      <td>...</td>\n",
       "      <td>...</td>\n",
       "      <td>...</td>\n",
       "      <td>...</td>\n",
       "      <td>...</td>\n",
       "      <td>...</td>\n",
       "      <td>...</td>\n",
       "      <td>...</td>\n",
       "      <td>...</td>\n",
       "      <td>...</td>\n",
       "      <td>...</td>\n",
       "      <td>...</td>\n",
       "      <td>...</td>\n",
       "      <td>...</td>\n",
       "      <td>...</td>\n",
       "      <td>...</td>\n",
       "    </tr>\n",
       "    <tr>\n",
       "      <th>2025-08-30 16:00:00</th>\n",
       "      <td>108921.64</td>\n",
       "      <td>4352.10</td>\n",
       "      <td>0.81950</td>\n",
       "      <td>856.7600</td>\n",
       "      <td>2.80720</td>\n",
       "      <td>3.816</td>\n",
       "      <td>NaN</td>\n",
       "      <td>110.23</td>\n",
       "      <td>542.00</td>\n",
       "      <td>23.36</td>\n",
       "      <td>...</td>\n",
       "      <td>0.725</td>\n",
       "      <td>7.240</td>\n",
       "      <td>16.62</td>\n",
       "      <td>0.01323</td>\n",
       "      <td>0.00342</td>\n",
       "      <td>0.0535</td>\n",
       "      <td>0.7646</td>\n",
       "      <td>NaN</td>\n",
       "      <td>NaN</td>\n",
       "      <td>0.03830</td>\n",
       "    </tr>\n",
       "    <tr>\n",
       "      <th>2025-08-30 20:00:00</th>\n",
       "      <td>108569.75</td>\n",
       "      <td>4374.56</td>\n",
       "      <td>0.82170</td>\n",
       "      <td>862.6200</td>\n",
       "      <td>2.81940</td>\n",
       "      <td>3.773</td>\n",
       "      <td>NaN</td>\n",
       "      <td>110.77</td>\n",
       "      <td>552.90</td>\n",
       "      <td>23.47</td>\n",
       "      <td>...</td>\n",
       "      <td>0.725</td>\n",
       "      <td>7.240</td>\n",
       "      <td>15.16</td>\n",
       "      <td>0.01323</td>\n",
       "      <td>0.00342</td>\n",
       "      <td>0.0535</td>\n",
       "      <td>0.7646</td>\n",
       "      <td>NaN</td>\n",
       "      <td>NaN</td>\n",
       "      <td>0.03830</td>\n",
       "    </tr>\n",
       "    <tr>\n",
       "      <th>2025-08-31 00:00:00</th>\n",
       "      <td>109155.73</td>\n",
       "      <td>4486.79</td>\n",
       "      <td>0.83590</td>\n",
       "      <td>863.4900</td>\n",
       "      <td>2.85180</td>\n",
       "      <td>3.867</td>\n",
       "      <td>NaN</td>\n",
       "      <td>111.67</td>\n",
       "      <td>551.30</td>\n",
       "      <td>23.90</td>\n",
       "      <td>...</td>\n",
       "      <td>0.764</td>\n",
       "      <td>7.240</td>\n",
       "      <td>15.21</td>\n",
       "      <td>0.01353</td>\n",
       "      <td>0.00342</td>\n",
       "      <td>0.0535</td>\n",
       "      <td>0.7936</td>\n",
       "      <td>NaN</td>\n",
       "      <td>NaN</td>\n",
       "      <td>0.04045</td>\n",
       "    </tr>\n",
       "    <tr>\n",
       "      <th>2025-08-31 04:00:00</th>\n",
       "      <td>108660.63</td>\n",
       "      <td>4451.64</td>\n",
       "      <td>0.82760</td>\n",
       "      <td>858.7700</td>\n",
       "      <td>2.82920</td>\n",
       "      <td>3.823</td>\n",
       "      <td>NaN</td>\n",
       "      <td>111.23</td>\n",
       "      <td>549.80</td>\n",
       "      <td>23.76</td>\n",
       "      <td>...</td>\n",
       "      <td>0.764</td>\n",
       "      <td>7.240</td>\n",
       "      <td>14.87</td>\n",
       "      <td>0.01331</td>\n",
       "      <td>0.00342</td>\n",
       "      <td>0.0535</td>\n",
       "      <td>0.7838</td>\n",
       "      <td>NaN</td>\n",
       "      <td>NaN</td>\n",
       "      <td>0.04045</td>\n",
       "    </tr>\n",
       "    <tr>\n",
       "      <th>2025-08-31 08:00:00</th>\n",
       "      <td>108472.00</td>\n",
       "      <td>4464.97</td>\n",
       "      <td>0.82300</td>\n",
       "      <td>857.1300</td>\n",
       "      <td>2.82250</td>\n",
       "      <td>3.792</td>\n",
       "      <td>NaN</td>\n",
       "      <td>111.35</td>\n",
       "      <td>550.00</td>\n",
       "      <td>23.76</td>\n",
       "      <td>...</td>\n",
       "      <td>0.764</td>\n",
       "      <td>7.240</td>\n",
       "      <td>14.84</td>\n",
       "      <td>0.01331</td>\n",
       "      <td>0.00342</td>\n",
       "      <td>0.0534</td>\n",
       "      <td>0.7758</td>\n",
       "      <td>NaN</td>\n",
       "      <td>NaN</td>\n",
       "      <td>0.04045</td>\n",
       "    </tr>\n",
       "  </tbody>\n",
       "</table>\n",
       "<p>10291 rows × 73 columns</p>\n",
       "</div>"
      ],
      "text/plain": [
       "                       BTCUSDT  ETHUSDT  ADAUSDT   BNBUSDT  XRPUSDT  DOTUSDT  \\\n",
       "open_time                                                                      \n",
       "2020-12-20 00:00:00   23353.97   646.62  0.16284   32.9681  0.56944      NaN   \n",
       "2020-12-20 04:00:00   23604.24   655.23  0.16638   33.6559  0.57916      NaN   \n",
       "2020-12-20 08:00:00   23549.50   652.88  0.16463   34.8228  0.57948      NaN   \n",
       "2020-12-20 12:00:00   23880.85   653.24  0.16542   35.0120  0.57798      NaN   \n",
       "2020-12-20 16:00:00   23932.71   649.82  0.16502   34.7042  0.57306      NaN   \n",
       "...                        ...      ...      ...       ...      ...      ...   \n",
       "2025-08-30 16:00:00  108921.64  4352.10  0.81950  856.7600  2.80720    3.816   \n",
       "2025-08-30 20:00:00  108569.75  4374.56  0.82170  862.6200  2.81940    3.773   \n",
       "2025-08-31 00:00:00  109155.73  4486.79  0.83590  863.4900  2.85180    3.867   \n",
       "2025-08-31 04:00:00  108660.63  4451.64  0.82760  858.7700  2.82920    3.823   \n",
       "2025-08-31 08:00:00  108472.00  4464.97  0.82300  857.1300  2.82250    3.792   \n",
       "\n",
       "                     MATICUSDT  LTCUSDT  BCHUSDT  LINKUSDT  ...  BNTUSDT  \\\n",
       "open_time                                                   ...            \n",
       "2020-12-20 00:00:00        NaN   117.34   313.46       NaN  ...      NaN   \n",
       "2020-12-20 04:00:00        NaN   121.30   340.00       NaN  ...      NaN   \n",
       "2020-12-20 08:00:00        NaN   118.09   349.70       NaN  ...      NaN   \n",
       "2020-12-20 12:00:00        NaN   119.10   361.21       NaN  ...      NaN   \n",
       "2020-12-20 16:00:00        NaN   116.60   357.09       NaN  ...      NaN   \n",
       "...                        ...      ...      ...       ...  ...      ...   \n",
       "2025-08-30 16:00:00        NaN   110.23   542.00     23.36  ...    0.725   \n",
       "2025-08-30 20:00:00        NaN   110.77   552.90     23.47  ...    0.725   \n",
       "2025-08-31 00:00:00        NaN   111.67   551.30     23.90  ...    0.764   \n",
       "2025-08-31 04:00:00        NaN   111.23   549.80     23.76  ...    0.764   \n",
       "2025-08-31 08:00:00        NaN   111.35   550.00     23.76  ...    0.764   \n",
       "\n",
       "                     ZENUSDT  NMRUSDT  RVNUSDT  IOSTUSDT  OXTUSDT  CRVUSDT  \\\n",
       "open_time                                                                    \n",
       "2020-12-20 00:00:00   12.056      NaN      NaN       NaN   0.2492      NaN   \n",
       "2020-12-20 04:00:00   12.107      NaN      NaN       NaN   0.2477      NaN   \n",
       "2020-12-20 08:00:00   12.237      NaN      NaN       NaN   0.2477      NaN   \n",
       "2020-12-20 12:00:00   12.074      NaN      NaN       NaN   0.2533      NaN   \n",
       "2020-12-20 16:00:00   12.008      NaN      NaN       NaN   0.2503      NaN   \n",
       "...                      ...      ...      ...       ...      ...      ...   \n",
       "2025-08-30 16:00:00    7.240    16.62  0.01323   0.00342   0.0535   0.7646   \n",
       "2025-08-30 20:00:00    7.240    15.16  0.01323   0.00342   0.0535   0.7646   \n",
       "2025-08-31 00:00:00    7.240    15.21  0.01353   0.00342   0.0535   0.7936   \n",
       "2025-08-31 04:00:00    7.240    14.87  0.01331   0.00342   0.0535   0.7838   \n",
       "2025-08-31 08:00:00    7.240    14.84  0.01331   0.00342   0.0534   0.7758   \n",
       "\n",
       "                     HNTUSDT  BALUSDT  CHZUSDT  \n",
       "open_time                                       \n",
       "2020-12-20 00:00:00  1.41095      NaN      NaN  \n",
       "2020-12-20 04:00:00  1.43156      NaN      NaN  \n",
       "2020-12-20 08:00:00  1.44273      NaN      NaN  \n",
       "2020-12-20 12:00:00  1.47130      NaN      NaN  \n",
       "2020-12-20 16:00:00  1.43083      NaN      NaN  \n",
       "...                      ...      ...      ...  \n",
       "2025-08-30 16:00:00      NaN      NaN  0.03830  \n",
       "2025-08-30 20:00:00      NaN      NaN  0.03830  \n",
       "2025-08-31 00:00:00      NaN      NaN  0.04045  \n",
       "2025-08-31 04:00:00      NaN      NaN  0.04045  \n",
       "2025-08-31 08:00:00      NaN      NaN  0.04045  \n",
       "\n",
       "[10291 rows x 73 columns]"
      ]
     },
     "execution_count": 3,
     "metadata": {},
     "output_type": "execute_result"
    }
   ],
   "source": [
    "client = bnb_client(tld='US')\n",
    "\n",
    "\n",
    "def get_binance_px(symbol, freq, start_ts = '2020-12-20'):\n",
    "    data = client.get_historical_klines(symbol, freq, start_ts)\n",
    "    columns = ['open_time', 'open', 'high', 'low', 'close', 'volume', 'close_time', 'quote_volume',\n",
    "               'num_trades', 'taker_base_volume', 'taker_quote_volume', 'ignore']\n",
    "    data = pd.DataFrame(data, columns = columns)\n",
    "    \n",
    "    # Convert from POSIX timestamp (number of millisecond since jan 1, 1970)\n",
    "    data['open_time'] = data['open_time'].map(lambda x: datetime.utcfromtimestamp(x/1000))\n",
    "    data['close_time'] = data['close_time'].map(lambda x: datetime.utcfromtimestamp(x/1000))\n",
    "    return data \n",
    "\n",
    "\n",
    "if should_download_stock_data:\n",
    "    freq = '4h'\n",
    "    px = {}\n",
    "    for x in univ:\n",
    "        print(f\"Downloading data for symbol {x}\")\n",
    "        data = get_binance_px(x, freq)\n",
    "        px[x] = data.set_index('open_time')['close']\n",
    "\n",
    "    px = pd.DataFrame(px).astype(float)\n",
    "    px.to_csv('./class_project_input_prices.csv')\n",
    "else:\n",
    "    px = pd.read_csv('./class_project_input_prices.csv')\n",
    "    date_format = \"%Y-%m-%d %H:%M:%S\"\n",
    "    px['open_time'] = px['open_time'].apply(lambda t:  datetime.strptime(t, date_format))\n",
    "    px.set_index('open_time', inplace=True)\n",
    "\n",
    "px"
   ]
  },
  {
   "cell_type": "code",
   "execution_count": 42,
   "id": "f59406ac",
   "metadata": {},
   "outputs": [],
   "source": [
    "import numpy as np\n",
    "import statsmodels.api as sm\n",
    "\n",
    "from datetime import timedelta\n",
    "from scipy.stats.mstats import winsorize\n",
    "\n",
    "\n",
    "bitcoin_benchmark_returns = px['BTCUSDT'] / px['BTCUSDT'].shift() - 1\n",
    "\n",
    "\n",
    "def get_rank_demeaned_normalized_signal(raw_signal):\n",
    "    signal_rank = raw_signal.rank(axis=1)\n",
    "    signal_mean = raw_signal.rank(axis=1).mean(axis=1)\n",
    "    demeaned_signal = signal_rank.subtract(signal_mean, axis=0)\n",
    "    return demeaned_signal.divide(demeaned_signal.abs().sum(axis=1), axis=0)\n",
    "\n",
    "\n",
    "def get_gross_returns_and_net_returns(signal_weights, px):\n",
    "    asset_returns = px / px.shift() - 1\n",
    "    weighted_returns = signal_weights.shift() * asset_returns\n",
    "    gross_returns = weighted_returns.sum(axis=1)\n",
    "    turnover = (signal_weights.fillna(0) - signal_weights.shift().fillna(0)).abs().sum(axis=1)\n",
    "    tcost_bps = 20 # (commission + slippage)\n",
    "    net_returns = gross_returns.subtract(turnover * tcost_bps * 1e-4, fill_value = 0)\n",
    "    return gross_returns, net_returns\n",
    "\n",
    "\n",
    "def get_max_drawdown(net_returns):\n",
    "    cumulative_net_returns = net_returns.cumsum()\n",
    "    drawdowns = cumulative_net_returns / cumulative_net_returns.expanding(min_periods=1).max() - 1\n",
    "    return drawdowns[drawdowns != float('-inf')].min()\n",
    "\n",
    "\n",
    "def get_max_drawdown_duration(net_returns, hours_freq):\n",
    "    cumulative_net_returns = net_returns.cumsum()\n",
    "    \n",
    "    peak = cumulative_net_returns.expanding(min_periods=1).max()\n",
    "    \n",
    "    max_drawdown_duration = 0\n",
    "    current_drawdown_duration = 0\n",
    "    \n",
    "    for dt in cumulative_net_returns.index:\n",
    "        if cumulative_net_returns[dt] >= peak[dt]:\n",
    "            current_drawdown_duration = 0\n",
    "        else:\n",
    "            current_drawdown_duration += 1\n",
    "            max_drawdown_duration = max(max_drawdown_duration, current_drawdown_duration)\n",
    "    return max_drawdown_duration * hours_freq / 24\n",
    "\n",
    "\n",
    "# returns pair in the form of (alpha, beta)\n",
    "def get_alpha_beta_to_asset(net_returns, benchmark_asset_returns):\n",
    "    model = sm.OLS(net_returns, sm.add_constant(benchmark_asset_returns))\n",
    "    res = model.fit()\n",
    "    return res.params[0], res.params[1]\n",
    "\n",
    "\n",
    "def get_bitcoin_returns_over_period(input_prices, trade_hours_freq = 4):\n",
    "    date_times = []\n",
    "    current_date_time = input_prices.index[0]\n",
    "    while current_date_time <= input_prices.index[-1]:\n",
    "        if current_date_time in input_prices.index:\n",
    "            date_times.append(current_date_time)\n",
    "        current_date_time += timedelta(hours=trade_hours_freq)\n",
    "    btc_prices_at_interval = input_prices['BTCUSDT'].loc[date_times]\n",
    "    return btc_prices_at_interval / btc_prices_at_interval.shift() - 1\n",
    "\n",
    "\n",
    "# For example, proportion_lo = 0.1 and proportion_hi = 0.1 makes the top and bottom 10% be the values at the\n",
    "# 90th and 10th percentiles, respectively.\n",
    "def get_winsorized_signal(raw_signal, proportion_lo, proportion_hi):\n",
    "    winsorized_signal = raw_signal.apply(lambda row: winsorize(\n",
    "        row, limits=[proportion_lo, proportion_hi]), axis=1, result_type='expand')\n",
    "    winsorized_signal.columns = raw_signal.columns\n",
    "    return winsorized_signal\n",
    "\n",
    "\n",
    "def get_truncated_signal(raw_signal, proportion_lo, proportion_hi):\n",
    "    quantile_lo = raw_signal.quantile(proportion_lo, axis=1)\n",
    "    mask_lo = raw_signal.lt(quantile_lo, axis=0)\n",
    "\n",
    "    quantile_hi = raw_signal.quantile(1-proportion_hi, axis=1)\n",
    "    mask_hi = raw_signal.gt(quantile_hi, axis=0)\n",
    "\n",
    "    return raw_signal.mask(mask_lo).mask(mask_hi)\n",
    "\n",
    "\n",
    "# trade_hours_freq = 4, 8, 12, 24 (for 1 day), ...\n",
    "def get_strategy_stats(net_returns, trade_hours_freq, input_prices):\n",
    "    alpha, beta = get_alpha_beta_to_asset(net_returns.iloc[2:],\n",
    "                                          get_bitcoin_returns_over_period(\n",
    "                                              input_prices, trade_hours_freq).iloc[2:])\n",
    "    res = {\n",
    "        \"avg returns\": net_returns.mean() * 24 / trade_hours_freq * 365,\n",
    "        \"volatility\": net_returns.std() * np.sqrt(24 / trade_hours_freq * 365),\n",
    "        \"sharpe ratio\": net_returns.mean() / net_returns.std() * np.sqrt(24 / trade_hours_freq * 365),\n",
    "        \"max drawdown\": get_max_drawdown(net_returns),\n",
    "        \"max drawdown duration\": get_max_drawdown_duration(net_returns, trade_hours_freq),\n",
    "        \"alpha_BTC\": alpha,\n",
    "        \"beta_BTC\": beta,\n",
    "    }\n",
    "    return res"
   ]
  },
  {
   "cell_type": "markdown",
   "id": "a6509707",
   "metadata": {},
   "source": [
    "# Strategy 1: Simple One-Period (4h) Reversal Signal "
   ]
  },
  {
   "cell_type": "code",
   "execution_count": 4,
   "id": "7ac51679",
   "metadata": {},
   "outputs": [
    {
     "data": {
      "text/html": [
       "<div>\n",
       "<style scoped>\n",
       "    .dataframe tbody tr th:only-of-type {\n",
       "        vertical-align: middle;\n",
       "    }\n",
       "\n",
       "    .dataframe tbody tr th {\n",
       "        vertical-align: top;\n",
       "    }\n",
       "\n",
       "    .dataframe thead th {\n",
       "        text-align: right;\n",
       "    }\n",
       "</style>\n",
       "<table border=\"1\" class=\"dataframe\">\n",
       "  <thead>\n",
       "    <tr style=\"text-align: right;\">\n",
       "      <th></th>\n",
       "      <th>BTCUSDT</th>\n",
       "      <th>ETHUSDT</th>\n",
       "      <th>ADAUSDT</th>\n",
       "      <th>BNBUSDT</th>\n",
       "      <th>XRPUSDT</th>\n",
       "      <th>DOTUSDT</th>\n",
       "      <th>MATICUSDT</th>\n",
       "      <th>LTCUSDT</th>\n",
       "      <th>BCHUSDT</th>\n",
       "      <th>LINKUSDT</th>\n",
       "      <th>...</th>\n",
       "      <th>BNTUSDT</th>\n",
       "      <th>ZENUSDT</th>\n",
       "      <th>NMRUSDT</th>\n",
       "      <th>RVNUSDT</th>\n",
       "      <th>IOSTUSDT</th>\n",
       "      <th>OXTUSDT</th>\n",
       "      <th>CRVUSDT</th>\n",
       "      <th>HNTUSDT</th>\n",
       "      <th>BALUSDT</th>\n",
       "      <th>CHZUSDT</th>\n",
       "    </tr>\n",
       "    <tr>\n",
       "      <th>open_time</th>\n",
       "      <th></th>\n",
       "      <th></th>\n",
       "      <th></th>\n",
       "      <th></th>\n",
       "      <th></th>\n",
       "      <th></th>\n",
       "      <th></th>\n",
       "      <th></th>\n",
       "      <th></th>\n",
       "      <th></th>\n",
       "      <th></th>\n",
       "      <th></th>\n",
       "      <th></th>\n",
       "      <th></th>\n",
       "      <th></th>\n",
       "      <th></th>\n",
       "      <th></th>\n",
       "      <th></th>\n",
       "      <th></th>\n",
       "      <th></th>\n",
       "      <th></th>\n",
       "    </tr>\n",
       "  </thead>\n",
       "  <tbody>\n",
       "    <tr>\n",
       "      <th>2020-12-20 00:00:00</th>\n",
       "      <td>NaN</td>\n",
       "      <td>NaN</td>\n",
       "      <td>NaN</td>\n",
       "      <td>NaN</td>\n",
       "      <td>NaN</td>\n",
       "      <td>NaN</td>\n",
       "      <td>NaN</td>\n",
       "      <td>NaN</td>\n",
       "      <td>NaN</td>\n",
       "      <td>NaN</td>\n",
       "      <td>...</td>\n",
       "      <td>NaN</td>\n",
       "      <td>NaN</td>\n",
       "      <td>NaN</td>\n",
       "      <td>NaN</td>\n",
       "      <td>NaN</td>\n",
       "      <td>NaN</td>\n",
       "      <td>NaN</td>\n",
       "      <td>NaN</td>\n",
       "      <td>NaN</td>\n",
       "      <td>NaN</td>\n",
       "    </tr>\n",
       "    <tr>\n",
       "      <th>2020-12-20 04:00:00</th>\n",
       "      <td>-0.010716</td>\n",
       "      <td>-0.013315</td>\n",
       "      <td>-0.021739</td>\n",
       "      <td>-0.020863</td>\n",
       "      <td>-0.017069</td>\n",
       "      <td>NaN</td>\n",
       "      <td>NaN</td>\n",
       "      <td>-0.033748</td>\n",
       "      <td>-0.084668</td>\n",
       "      <td>NaN</td>\n",
       "      <td>...</td>\n",
       "      <td>NaN</td>\n",
       "      <td>-0.004230</td>\n",
       "      <td>NaN</td>\n",
       "      <td>NaN</td>\n",
       "      <td>NaN</td>\n",
       "      <td>0.006019</td>\n",
       "      <td>NaN</td>\n",
       "      <td>-0.014607</td>\n",
       "      <td>NaN</td>\n",
       "      <td>NaN</td>\n",
       "    </tr>\n",
       "    <tr>\n",
       "      <th>2020-12-20 08:00:00</th>\n",
       "      <td>0.002319</td>\n",
       "      <td>0.003587</td>\n",
       "      <td>0.010518</td>\n",
       "      <td>-0.034671</td>\n",
       "      <td>-0.000553</td>\n",
       "      <td>NaN</td>\n",
       "      <td>NaN</td>\n",
       "      <td>0.026463</td>\n",
       "      <td>-0.028529</td>\n",
       "      <td>NaN</td>\n",
       "      <td>...</td>\n",
       "      <td>NaN</td>\n",
       "      <td>-0.010738</td>\n",
       "      <td>NaN</td>\n",
       "      <td>NaN</td>\n",
       "      <td>NaN</td>\n",
       "      <td>-0.000000</td>\n",
       "      <td>NaN</td>\n",
       "      <td>-0.007803</td>\n",
       "      <td>NaN</td>\n",
       "      <td>NaN</td>\n",
       "    </tr>\n",
       "    <tr>\n",
       "      <th>2020-12-20 12:00:00</th>\n",
       "      <td>-0.014070</td>\n",
       "      <td>-0.000551</td>\n",
       "      <td>-0.004799</td>\n",
       "      <td>-0.005433</td>\n",
       "      <td>0.002589</td>\n",
       "      <td>NaN</td>\n",
       "      <td>NaN</td>\n",
       "      <td>-0.008553</td>\n",
       "      <td>-0.032914</td>\n",
       "      <td>NaN</td>\n",
       "      <td>...</td>\n",
       "      <td>NaN</td>\n",
       "      <td>0.013320</td>\n",
       "      <td>NaN</td>\n",
       "      <td>NaN</td>\n",
       "      <td>NaN</td>\n",
       "      <td>-0.022608</td>\n",
       "      <td>NaN</td>\n",
       "      <td>-0.019803</td>\n",
       "      <td>NaN</td>\n",
       "      <td>NaN</td>\n",
       "    </tr>\n",
       "    <tr>\n",
       "      <th>2020-12-20 16:00:00</th>\n",
       "      <td>-0.002172</td>\n",
       "      <td>0.005235</td>\n",
       "      <td>0.002418</td>\n",
       "      <td>0.008791</td>\n",
       "      <td>0.008512</td>\n",
       "      <td>NaN</td>\n",
       "      <td>NaN</td>\n",
       "      <td>0.020991</td>\n",
       "      <td>0.011406</td>\n",
       "      <td>NaN</td>\n",
       "      <td>...</td>\n",
       "      <td>NaN</td>\n",
       "      <td>0.005466</td>\n",
       "      <td>NaN</td>\n",
       "      <td>NaN</td>\n",
       "      <td>NaN</td>\n",
       "      <td>0.011844</td>\n",
       "      <td>NaN</td>\n",
       "      <td>0.027506</td>\n",
       "      <td>NaN</td>\n",
       "      <td>NaN</td>\n",
       "    </tr>\n",
       "    <tr>\n",
       "      <th>...</th>\n",
       "      <td>...</td>\n",
       "      <td>...</td>\n",
       "      <td>...</td>\n",
       "      <td>...</td>\n",
       "      <td>...</td>\n",
       "      <td>...</td>\n",
       "      <td>...</td>\n",
       "      <td>...</td>\n",
       "      <td>...</td>\n",
       "      <td>...</td>\n",
       "      <td>...</td>\n",
       "      <td>...</td>\n",
       "      <td>...</td>\n",
       "      <td>...</td>\n",
       "      <td>...</td>\n",
       "      <td>...</td>\n",
       "      <td>...</td>\n",
       "      <td>...</td>\n",
       "      <td>...</td>\n",
       "      <td>...</td>\n",
       "      <td>...</td>\n",
       "    </tr>\n",
       "    <tr>\n",
       "      <th>2025-08-30 16:00:00</th>\n",
       "      <td>-0.000563</td>\n",
       "      <td>0.005439</td>\n",
       "      <td>0.003769</td>\n",
       "      <td>0.002863</td>\n",
       "      <td>0.000178</td>\n",
       "      <td>-0.007924</td>\n",
       "      <td>NaN</td>\n",
       "      <td>0.003526</td>\n",
       "      <td>0.005505</td>\n",
       "      <td>0.002136</td>\n",
       "      <td>...</td>\n",
       "      <td>0.069320</td>\n",
       "      <td>-0.000000</td>\n",
       "      <td>-0.003623</td>\n",
       "      <td>-0.000000</td>\n",
       "      <td>-0.0</td>\n",
       "      <td>-0.000000</td>\n",
       "      <td>-0.000000</td>\n",
       "      <td>NaN</td>\n",
       "      <td>NaN</td>\n",
       "      <td>-0.000000</td>\n",
       "    </tr>\n",
       "    <tr>\n",
       "      <th>2025-08-30 20:00:00</th>\n",
       "      <td>0.003231</td>\n",
       "      <td>-0.005161</td>\n",
       "      <td>-0.002685</td>\n",
       "      <td>-0.006840</td>\n",
       "      <td>-0.004346</td>\n",
       "      <td>0.011268</td>\n",
       "      <td>NaN</td>\n",
       "      <td>-0.004899</td>\n",
       "      <td>-0.020111</td>\n",
       "      <td>-0.004709</td>\n",
       "      <td>...</td>\n",
       "      <td>-0.000000</td>\n",
       "      <td>-0.000000</td>\n",
       "      <td>0.087846</td>\n",
       "      <td>-0.000000</td>\n",
       "      <td>-0.0</td>\n",
       "      <td>-0.000000</td>\n",
       "      <td>-0.000000</td>\n",
       "      <td>NaN</td>\n",
       "      <td>NaN</td>\n",
       "      <td>-0.000000</td>\n",
       "    </tr>\n",
       "    <tr>\n",
       "      <th>2025-08-31 00:00:00</th>\n",
       "      <td>-0.005397</td>\n",
       "      <td>-0.025655</td>\n",
       "      <td>-0.017281</td>\n",
       "      <td>-0.001009</td>\n",
       "      <td>-0.011492</td>\n",
       "      <td>-0.024914</td>\n",
       "      <td>NaN</td>\n",
       "      <td>-0.008125</td>\n",
       "      <td>0.002894</td>\n",
       "      <td>-0.018321</td>\n",
       "      <td>...</td>\n",
       "      <td>-0.053793</td>\n",
       "      <td>-0.000000</td>\n",
       "      <td>-0.003298</td>\n",
       "      <td>-0.022676</td>\n",
       "      <td>-0.0</td>\n",
       "      <td>-0.000000</td>\n",
       "      <td>-0.037928</td>\n",
       "      <td>NaN</td>\n",
       "      <td>NaN</td>\n",
       "      <td>-0.056136</td>\n",
       "    </tr>\n",
       "    <tr>\n",
       "      <th>2025-08-31 04:00:00</th>\n",
       "      <td>0.004536</td>\n",
       "      <td>0.007834</td>\n",
       "      <td>0.009929</td>\n",
       "      <td>0.005466</td>\n",
       "      <td>0.007925</td>\n",
       "      <td>0.011378</td>\n",
       "      <td>NaN</td>\n",
       "      <td>0.003940</td>\n",
       "      <td>0.002721</td>\n",
       "      <td>0.005858</td>\n",
       "      <td>...</td>\n",
       "      <td>-0.000000</td>\n",
       "      <td>-0.000000</td>\n",
       "      <td>0.022354</td>\n",
       "      <td>0.016260</td>\n",
       "      <td>-0.0</td>\n",
       "      <td>-0.000000</td>\n",
       "      <td>0.012349</td>\n",
       "      <td>NaN</td>\n",
       "      <td>NaN</td>\n",
       "      <td>-0.000000</td>\n",
       "    </tr>\n",
       "    <tr>\n",
       "      <th>2025-08-31 08:00:00</th>\n",
       "      <td>0.001736</td>\n",
       "      <td>-0.002994</td>\n",
       "      <td>0.005558</td>\n",
       "      <td>0.001910</td>\n",
       "      <td>0.002368</td>\n",
       "      <td>0.008109</td>\n",
       "      <td>NaN</td>\n",
       "      <td>-0.001079</td>\n",
       "      <td>-0.000364</td>\n",
       "      <td>-0.000000</td>\n",
       "      <td>...</td>\n",
       "      <td>-0.000000</td>\n",
       "      <td>-0.000000</td>\n",
       "      <td>0.002017</td>\n",
       "      <td>-0.000000</td>\n",
       "      <td>-0.0</td>\n",
       "      <td>0.001869</td>\n",
       "      <td>0.010207</td>\n",
       "      <td>NaN</td>\n",
       "      <td>NaN</td>\n",
       "      <td>-0.000000</td>\n",
       "    </tr>\n",
       "  </tbody>\n",
       "</table>\n",
       "<p>10291 rows × 73 columns</p>\n",
       "</div>"
      ],
      "text/plain": [
       "                      BTCUSDT   ETHUSDT   ADAUSDT   BNBUSDT   XRPUSDT  \\\n",
       "open_time                                                               \n",
       "2020-12-20 00:00:00       NaN       NaN       NaN       NaN       NaN   \n",
       "2020-12-20 04:00:00 -0.010716 -0.013315 -0.021739 -0.020863 -0.017069   \n",
       "2020-12-20 08:00:00  0.002319  0.003587  0.010518 -0.034671 -0.000553   \n",
       "2020-12-20 12:00:00 -0.014070 -0.000551 -0.004799 -0.005433  0.002589   \n",
       "2020-12-20 16:00:00 -0.002172  0.005235  0.002418  0.008791  0.008512   \n",
       "...                       ...       ...       ...       ...       ...   \n",
       "2025-08-30 16:00:00 -0.000563  0.005439  0.003769  0.002863  0.000178   \n",
       "2025-08-30 20:00:00  0.003231 -0.005161 -0.002685 -0.006840 -0.004346   \n",
       "2025-08-31 00:00:00 -0.005397 -0.025655 -0.017281 -0.001009 -0.011492   \n",
       "2025-08-31 04:00:00  0.004536  0.007834  0.009929  0.005466  0.007925   \n",
       "2025-08-31 08:00:00  0.001736 -0.002994  0.005558  0.001910  0.002368   \n",
       "\n",
       "                      DOTUSDT  MATICUSDT   LTCUSDT   BCHUSDT  LINKUSDT  ...  \\\n",
       "open_time                                                               ...   \n",
       "2020-12-20 00:00:00       NaN        NaN       NaN       NaN       NaN  ...   \n",
       "2020-12-20 04:00:00       NaN        NaN -0.033748 -0.084668       NaN  ...   \n",
       "2020-12-20 08:00:00       NaN        NaN  0.026463 -0.028529       NaN  ...   \n",
       "2020-12-20 12:00:00       NaN        NaN -0.008553 -0.032914       NaN  ...   \n",
       "2020-12-20 16:00:00       NaN        NaN  0.020991  0.011406       NaN  ...   \n",
       "...                       ...        ...       ...       ...       ...  ...   \n",
       "2025-08-30 16:00:00 -0.007924        NaN  0.003526  0.005505  0.002136  ...   \n",
       "2025-08-30 20:00:00  0.011268        NaN -0.004899 -0.020111 -0.004709  ...   \n",
       "2025-08-31 00:00:00 -0.024914        NaN -0.008125  0.002894 -0.018321  ...   \n",
       "2025-08-31 04:00:00  0.011378        NaN  0.003940  0.002721  0.005858  ...   \n",
       "2025-08-31 08:00:00  0.008109        NaN -0.001079 -0.000364 -0.000000  ...   \n",
       "\n",
       "                      BNTUSDT   ZENUSDT   NMRUSDT   RVNUSDT  IOSTUSDT  \\\n",
       "open_time                                                               \n",
       "2020-12-20 00:00:00       NaN       NaN       NaN       NaN       NaN   \n",
       "2020-12-20 04:00:00       NaN -0.004230       NaN       NaN       NaN   \n",
       "2020-12-20 08:00:00       NaN -0.010738       NaN       NaN       NaN   \n",
       "2020-12-20 12:00:00       NaN  0.013320       NaN       NaN       NaN   \n",
       "2020-12-20 16:00:00       NaN  0.005466       NaN       NaN       NaN   \n",
       "...                       ...       ...       ...       ...       ...   \n",
       "2025-08-30 16:00:00  0.069320 -0.000000 -0.003623 -0.000000      -0.0   \n",
       "2025-08-30 20:00:00 -0.000000 -0.000000  0.087846 -0.000000      -0.0   \n",
       "2025-08-31 00:00:00 -0.053793 -0.000000 -0.003298 -0.022676      -0.0   \n",
       "2025-08-31 04:00:00 -0.000000 -0.000000  0.022354  0.016260      -0.0   \n",
       "2025-08-31 08:00:00 -0.000000 -0.000000  0.002017 -0.000000      -0.0   \n",
       "\n",
       "                      OXTUSDT   CRVUSDT   HNTUSDT  BALUSDT   CHZUSDT  \n",
       "open_time                                                             \n",
       "2020-12-20 00:00:00       NaN       NaN       NaN      NaN       NaN  \n",
       "2020-12-20 04:00:00  0.006019       NaN -0.014607      NaN       NaN  \n",
       "2020-12-20 08:00:00 -0.000000       NaN -0.007803      NaN       NaN  \n",
       "2020-12-20 12:00:00 -0.022608       NaN -0.019803      NaN       NaN  \n",
       "2020-12-20 16:00:00  0.011844       NaN  0.027506      NaN       NaN  \n",
       "...                       ...       ...       ...      ...       ...  \n",
       "2025-08-30 16:00:00 -0.000000 -0.000000       NaN      NaN -0.000000  \n",
       "2025-08-30 20:00:00 -0.000000 -0.000000       NaN      NaN -0.000000  \n",
       "2025-08-31 00:00:00 -0.000000 -0.037928       NaN      NaN -0.056136  \n",
       "2025-08-31 04:00:00 -0.000000  0.012349       NaN      NaN -0.000000  \n",
       "2025-08-31 08:00:00  0.001869  0.010207       NaN      NaN -0.000000  \n",
       "\n",
       "[10291 rows x 73 columns]"
      ]
     },
     "execution_count": 4,
     "metadata": {},
     "output_type": "execute_result"
    }
   ],
   "source": [
    "ret = px / px.shift() - 1\n",
    "simple_raw_reversal_signal = ret * -1\n",
    "simple_raw_reversal_signal"
   ]
  },
  {
   "cell_type": "code",
   "execution_count": 5,
   "id": "a359f1be",
   "metadata": {},
   "outputs": [
    {
     "data": {
      "text/plain": [
       "<Axes: xlabel='open_time'>"
      ]
     },
     "execution_count": 5,
     "metadata": {},
     "output_type": "execute_result"
    },
    {
     "data": {
      "image/png": "[encoded data removed]",
      "text/plain": [
       "<Figure size 640x480 with 1 Axes>"
      ]
     },
     "metadata": {},
     "output_type": "display_data"
    }
   ],
   "source": [
    "transformed_signal = get_rank_demeaned_normalized_signal(simple_raw_reversal_signal)\n",
    "gross_returns, net_returns = get_gross_returns_and_net_returns(transformed_signal, px)\n",
    "net_returns.cumsum().plot()"
   ]
  },
  {
   "cell_type": "code",
   "execution_count": 6,
   "id": "7a39e74f",
   "metadata": {},
   "outputs": [
    {
     "data": {
      "text/plain": [
       "<Axes: xlabel='open_time'>"
      ]
     },
     "execution_count": 6,
     "metadata": {},
     "output_type": "execute_result"
    },
    {
     "data": {
      "image/png": "[encoded data removed]",
      "text/plain": [
       "<Figure size 640x480 with 1 Axes>"
      ]
     },
     "metadata": {},
     "output_type": "display_data"
    }
   ],
   "source": [
    "gross_returns.cumsum().plot()"
   ]
  },
  {
   "cell_type": "code",
   "execution_count": 7,
   "id": "38918f89",
   "metadata": {},
   "outputs": [
    {
     "name": "stdout",
     "output_type": "stream",
     "text": [
      "Intel MKL WARNING: Support of Intel(R) Streaming SIMD Extensions 4.2 (Intel(R) SSE4.2) enabled only processors has been deprecated. Intel oneAPI Math Kernel Library 2025.0 will require Intel(R) Advanced Vector Extensions (Intel(R) AVX) instructions.\n"
     ]
    },
    {
     "name": "stderr",
     "output_type": "stream",
     "text": [
      "/var/folders/46/nmm5hcbx71d6nqy2066wsyjc0000gn/T/ipykernel_1100/3733429805.py:54: FutureWarning: Series.__getitem__ treating keys as positions is deprecated. In a future version, integer keys will always be treated as labels (consistent with DataFrame behavior). To access a value by position, use `ser.iloc[pos]`\n",
      "  return res.params[0], res.params[1]\n"
     ]
    },
    {
     "data": {
      "text/plain": [
       "{'avg returns': -0.5417910961191515,\n",
       " 'volatility': 0.2637606139161894,\n",
       " 'sharpe ratio': -2.0541015888418697,\n",
       " 'max drawdown': -2252.7514939157913,\n",
       " 'max drawdown duration': 1713.0,\n",
       " 'alpha_BTC': -0.00025204855897909575,\n",
       " 'beta_BTC': 0.020664750027787882}"
      ]
     },
     "execution_count": 7,
     "metadata": {},
     "output_type": "execute_result"
    }
   ],
   "source": [
    "get_strategy_stats(net_returns, 4, px)"
   ]
  },
  {
   "cell_type": "markdown",
   "id": "198f6c0b",
   "metadata": {},
   "source": [
    "# Strategy 2: Winsorize Simple One-Period (4h) Reversal Signal"
   ]
  },
  {
   "cell_type": "code",
   "execution_count": 107,
   "id": "2a261cf1",
   "metadata": {},
   "outputs": [],
   "source": [
    "ret = px / px.shift() - 1\n",
    "raw_signal = ret * -1"
   ]
  },
  {
   "cell_type": "markdown",
   "id": "d2afca2f",
   "metadata": {},
   "source": [
    "### With limits of 10% on each side"
   ]
  },
  {
   "cell_type": "code",
   "execution_count": 108,
   "id": "862e5360",
   "metadata": {},
   "outputs": [
    {
     "data": {
      "text/html": [
       "<div>\n",
       "<style scoped>\n",
       "    .dataframe tbody tr th:only-of-type {\n",
       "        vertical-align: middle;\n",
       "    }\n",
       "\n",
       "    .dataframe tbody tr th {\n",
       "        vertical-align: top;\n",
       "    }\n",
       "\n",
       "    .dataframe thead th {\n",
       "        text-align: right;\n",
       "    }\n",
       "</style>\n",
       "<table border=\"1\" class=\"dataframe\">\n",
       "  <thead>\n",
       "    <tr style=\"text-align: right;\">\n",
       "      <th></th>\n",
       "      <th>BTCUSDT</th>\n",
       "      <th>ETHUSDT</th>\n",
       "      <th>ADAUSDT</th>\n",
       "      <th>BNBUSDT</th>\n",
       "      <th>XRPUSDT</th>\n",
       "      <th>DOTUSDT</th>\n",
       "      <th>MATICUSDT</th>\n",
       "      <th>LTCUSDT</th>\n",
       "      <th>BCHUSDT</th>\n",
       "      <th>LINKUSDT</th>\n",
       "      <th>...</th>\n",
       "      <th>BNTUSDT</th>\n",
       "      <th>ZENUSDT</th>\n",
       "      <th>NMRUSDT</th>\n",
       "      <th>RVNUSDT</th>\n",
       "      <th>IOSTUSDT</th>\n",
       "      <th>OXTUSDT</th>\n",
       "      <th>CRVUSDT</th>\n",
       "      <th>HNTUSDT</th>\n",
       "      <th>BALUSDT</th>\n",
       "      <th>CHZUSDT</th>\n",
       "    </tr>\n",
       "    <tr>\n",
       "      <th>open_time</th>\n",
       "      <th></th>\n",
       "      <th></th>\n",
       "      <th></th>\n",
       "      <th></th>\n",
       "      <th></th>\n",
       "      <th></th>\n",
       "      <th></th>\n",
       "      <th></th>\n",
       "      <th></th>\n",
       "      <th></th>\n",
       "      <th></th>\n",
       "      <th></th>\n",
       "      <th></th>\n",
       "      <th></th>\n",
       "      <th></th>\n",
       "      <th></th>\n",
       "      <th></th>\n",
       "      <th></th>\n",
       "      <th></th>\n",
       "      <th></th>\n",
       "      <th></th>\n",
       "    </tr>\n",
       "  </thead>\n",
       "  <tbody>\n",
       "    <tr>\n",
       "      <th>2020-12-20 00:00:00</th>\n",
       "      <td>NaN</td>\n",
       "      <td>NaN</td>\n",
       "      <td>NaN</td>\n",
       "      <td>NaN</td>\n",
       "      <td>NaN</td>\n",
       "      <td>NaN</td>\n",
       "      <td>NaN</td>\n",
       "      <td>NaN</td>\n",
       "      <td>NaN</td>\n",
       "      <td>NaN</td>\n",
       "      <td>...</td>\n",
       "      <td>NaN</td>\n",
       "      <td>NaN</td>\n",
       "      <td>NaN</td>\n",
       "      <td>NaN</td>\n",
       "      <td>NaN</td>\n",
       "      <td>NaN</td>\n",
       "      <td>NaN</td>\n",
       "      <td>NaN</td>\n",
       "      <td>NaN</td>\n",
       "      <td>NaN</td>\n",
       "    </tr>\n",
       "    <tr>\n",
       "      <th>2020-12-20 04:00:00</th>\n",
       "      <td>-0.010716</td>\n",
       "      <td>-0.013315</td>\n",
       "      <td>-0.020863</td>\n",
       "      <td>-0.020863</td>\n",
       "      <td>-0.017069</td>\n",
       "      <td>NaN</td>\n",
       "      <td>NaN</td>\n",
       "      <td>-0.020863</td>\n",
       "      <td>-0.020863</td>\n",
       "      <td>NaN</td>\n",
       "      <td>...</td>\n",
       "      <td>NaN</td>\n",
       "      <td>-0.004230</td>\n",
       "      <td>NaN</td>\n",
       "      <td>NaN</td>\n",
       "      <td>NaN</td>\n",
       "      <td>0.006019</td>\n",
       "      <td>NaN</td>\n",
       "      <td>-0.014607</td>\n",
       "      <td>NaN</td>\n",
       "      <td>NaN</td>\n",
       "    </tr>\n",
       "    <tr>\n",
       "      <th>2020-12-20 08:00:00</th>\n",
       "      <td>0.002319</td>\n",
       "      <td>0.003587</td>\n",
       "      <td>0.010518</td>\n",
       "      <td>-0.007803</td>\n",
       "      <td>-0.000553</td>\n",
       "      <td>NaN</td>\n",
       "      <td>NaN</td>\n",
       "      <td>0.026463</td>\n",
       "      <td>-0.007803</td>\n",
       "      <td>NaN</td>\n",
       "      <td>...</td>\n",
       "      <td>NaN</td>\n",
       "      <td>-0.007803</td>\n",
       "      <td>NaN</td>\n",
       "      <td>NaN</td>\n",
       "      <td>NaN</td>\n",
       "      <td>-0.000000</td>\n",
       "      <td>NaN</td>\n",
       "      <td>-0.007803</td>\n",
       "      <td>NaN</td>\n",
       "      <td>NaN</td>\n",
       "    </tr>\n",
       "    <tr>\n",
       "      <th>2020-12-20 12:00:00</th>\n",
       "      <td>-0.014070</td>\n",
       "      <td>-0.000551</td>\n",
       "      <td>-0.004799</td>\n",
       "      <td>-0.005433</td>\n",
       "      <td>0.002589</td>\n",
       "      <td>NaN</td>\n",
       "      <td>NaN</td>\n",
       "      <td>-0.008553</td>\n",
       "      <td>-0.014172</td>\n",
       "      <td>NaN</td>\n",
       "      <td>...</td>\n",
       "      <td>NaN</td>\n",
       "      <td>0.013320</td>\n",
       "      <td>NaN</td>\n",
       "      <td>NaN</td>\n",
       "      <td>NaN</td>\n",
       "      <td>-0.014172</td>\n",
       "      <td>NaN</td>\n",
       "      <td>-0.014172</td>\n",
       "      <td>NaN</td>\n",
       "      <td>NaN</td>\n",
       "    </tr>\n",
       "    <tr>\n",
       "      <th>2020-12-20 16:00:00</th>\n",
       "      <td>0.003950</td>\n",
       "      <td>0.005235</td>\n",
       "      <td>0.003950</td>\n",
       "      <td>0.008791</td>\n",
       "      <td>0.008512</td>\n",
       "      <td>NaN</td>\n",
       "      <td>NaN</td>\n",
       "      <td>0.020991</td>\n",
       "      <td>0.011406</td>\n",
       "      <td>NaN</td>\n",
       "      <td>...</td>\n",
       "      <td>NaN</td>\n",
       "      <td>0.005466</td>\n",
       "      <td>NaN</td>\n",
       "      <td>NaN</td>\n",
       "      <td>NaN</td>\n",
       "      <td>0.011844</td>\n",
       "      <td>NaN</td>\n",
       "      <td>0.027506</td>\n",
       "      <td>NaN</td>\n",
       "      <td>NaN</td>\n",
       "    </tr>\n",
       "    <tr>\n",
       "      <th>...</th>\n",
       "      <td>...</td>\n",
       "      <td>...</td>\n",
       "      <td>...</td>\n",
       "      <td>...</td>\n",
       "      <td>...</td>\n",
       "      <td>...</td>\n",
       "      <td>...</td>\n",
       "      <td>...</td>\n",
       "      <td>...</td>\n",
       "      <td>...</td>\n",
       "      <td>...</td>\n",
       "      <td>...</td>\n",
       "      <td>...</td>\n",
       "      <td>...</td>\n",
       "      <td>...</td>\n",
       "      <td>...</td>\n",
       "      <td>...</td>\n",
       "      <td>...</td>\n",
       "      <td>...</td>\n",
       "      <td>...</td>\n",
       "      <td>...</td>\n",
       "    </tr>\n",
       "    <tr>\n",
       "      <th>2025-08-30 16:00:00</th>\n",
       "      <td>-0.000563</td>\n",
       "      <td>0.005439</td>\n",
       "      <td>0.003769</td>\n",
       "      <td>0.002863</td>\n",
       "      <td>0.000178</td>\n",
       "      <td>-0.003310</td>\n",
       "      <td>NaN</td>\n",
       "      <td>0.003526</td>\n",
       "      <td>0.005505</td>\n",
       "      <td>0.002136</td>\n",
       "      <td>...</td>\n",
       "      <td>0.069320</td>\n",
       "      <td>-0.000000</td>\n",
       "      <td>-0.003310</td>\n",
       "      <td>-0.000000</td>\n",
       "      <td>-0.0</td>\n",
       "      <td>-0.000000</td>\n",
       "      <td>-0.000000</td>\n",
       "      <td>NaN</td>\n",
       "      <td>NaN</td>\n",
       "      <td>-0.000000</td>\n",
       "    </tr>\n",
       "    <tr>\n",
       "      <th>2025-08-30 20:00:00</th>\n",
       "      <td>0.003231</td>\n",
       "      <td>-0.005161</td>\n",
       "      <td>-0.002685</td>\n",
       "      <td>-0.006840</td>\n",
       "      <td>-0.004346</td>\n",
       "      <td>0.011268</td>\n",
       "      <td>NaN</td>\n",
       "      <td>-0.004899</td>\n",
       "      <td>-0.010767</td>\n",
       "      <td>-0.004709</td>\n",
       "      <td>...</td>\n",
       "      <td>-0.000000</td>\n",
       "      <td>-0.000000</td>\n",
       "      <td>0.087846</td>\n",
       "      <td>-0.000000</td>\n",
       "      <td>-0.0</td>\n",
       "      <td>-0.000000</td>\n",
       "      <td>-0.000000</td>\n",
       "      <td>NaN</td>\n",
       "      <td>NaN</td>\n",
       "      <td>-0.000000</td>\n",
       "    </tr>\n",
       "    <tr>\n",
       "      <th>2025-08-31 00:00:00</th>\n",
       "      <td>-0.005397</td>\n",
       "      <td>-0.025655</td>\n",
       "      <td>-0.017281</td>\n",
       "      <td>-0.001009</td>\n",
       "      <td>-0.011492</td>\n",
       "      <td>-0.024914</td>\n",
       "      <td>NaN</td>\n",
       "      <td>-0.008125</td>\n",
       "      <td>0.002894</td>\n",
       "      <td>-0.018321</td>\n",
       "      <td>...</td>\n",
       "      <td>-0.045067</td>\n",
       "      <td>-0.000000</td>\n",
       "      <td>-0.003298</td>\n",
       "      <td>-0.022676</td>\n",
       "      <td>-0.0</td>\n",
       "      <td>-0.000000</td>\n",
       "      <td>-0.037928</td>\n",
       "      <td>NaN</td>\n",
       "      <td>NaN</td>\n",
       "      <td>-0.045067</td>\n",
       "    </tr>\n",
       "    <tr>\n",
       "      <th>2025-08-31 04:00:00</th>\n",
       "      <td>0.004536</td>\n",
       "      <td>0.007834</td>\n",
       "      <td>0.009929</td>\n",
       "      <td>0.005466</td>\n",
       "      <td>0.007925</td>\n",
       "      <td>0.011378</td>\n",
       "      <td>NaN</td>\n",
       "      <td>0.003940</td>\n",
       "      <td>0.002721</td>\n",
       "      <td>0.005858</td>\n",
       "      <td>...</td>\n",
       "      <td>-0.000000</td>\n",
       "      <td>-0.000000</td>\n",
       "      <td>0.022354</td>\n",
       "      <td>0.016260</td>\n",
       "      <td>-0.0</td>\n",
       "      <td>-0.000000</td>\n",
       "      <td>0.012349</td>\n",
       "      <td>NaN</td>\n",
       "      <td>NaN</td>\n",
       "      <td>-0.000000</td>\n",
       "    </tr>\n",
       "    <tr>\n",
       "      <th>2025-08-31 08:00:00</th>\n",
       "      <td>0.001736</td>\n",
       "      <td>-0.001102</td>\n",
       "      <td>0.005558</td>\n",
       "      <td>0.001910</td>\n",
       "      <td>0.002368</td>\n",
       "      <td>0.008109</td>\n",
       "      <td>NaN</td>\n",
       "      <td>-0.001079</td>\n",
       "      <td>-0.000364</td>\n",
       "      <td>-0.000000</td>\n",
       "      <td>...</td>\n",
       "      <td>-0.000000</td>\n",
       "      <td>-0.000000</td>\n",
       "      <td>0.002017</td>\n",
       "      <td>-0.000000</td>\n",
       "      <td>-0.0</td>\n",
       "      <td>0.001869</td>\n",
       "      <td>0.010207</td>\n",
       "      <td>NaN</td>\n",
       "      <td>NaN</td>\n",
       "      <td>-0.000000</td>\n",
       "    </tr>\n",
       "  </tbody>\n",
       "</table>\n",
       "<p>10291 rows × 73 columns</p>\n",
       "</div>"
      ],
      "text/plain": [
       "                      BTCUSDT   ETHUSDT   ADAUSDT   BNBUSDT   XRPUSDT  \\\n",
       "open_time                                                               \n",
       "2020-12-20 00:00:00       NaN       NaN       NaN       NaN       NaN   \n",
       "2020-12-20 04:00:00 -0.010716 -0.013315 -0.020863 -0.020863 -0.017069   \n",
       "2020-12-20 08:00:00  0.002319  0.003587  0.010518 -0.007803 -0.000553   \n",
       "2020-12-20 12:00:00 -0.014070 -0.000551 -0.004799 -0.005433  0.002589   \n",
       "2020-12-20 16:00:00  0.003950  0.005235  0.003950  0.008791  0.008512   \n",
       "...                       ...       ...       ...       ...       ...   \n",
       "2025-08-30 16:00:00 -0.000563  0.005439  0.003769  0.002863  0.000178   \n",
       "2025-08-30 20:00:00  0.003231 -0.005161 -0.002685 -0.006840 -0.004346   \n",
       "2025-08-31 00:00:00 -0.005397 -0.025655 -0.017281 -0.001009 -0.011492   \n",
       "2025-08-31 04:00:00  0.004536  0.007834  0.009929  0.005466  0.007925   \n",
       "2025-08-31 08:00:00  0.001736 -0.001102  0.005558  0.001910  0.002368   \n",
       "\n",
       "                      DOTUSDT  MATICUSDT   LTCUSDT   BCHUSDT  LINKUSDT  ...  \\\n",
       "open_time                                                               ...   \n",
       "2020-12-20 00:00:00       NaN        NaN       NaN       NaN       NaN  ...   \n",
       "2020-12-20 04:00:00       NaN        NaN -0.020863 -0.020863       NaN  ...   \n",
       "2020-12-20 08:00:00       NaN        NaN  0.026463 -0.007803       NaN  ...   \n",
       "2020-12-20 12:00:00       NaN        NaN -0.008553 -0.014172       NaN  ...   \n",
       "2020-12-20 16:00:00       NaN        NaN  0.020991  0.011406       NaN  ...   \n",
       "...                       ...        ...       ...       ...       ...  ...   \n",
       "2025-08-30 16:00:00 -0.003310        NaN  0.003526  0.005505  0.002136  ...   \n",
       "2025-08-30 20:00:00  0.011268        NaN -0.004899 -0.010767 -0.004709  ...   \n",
       "2025-08-31 00:00:00 -0.024914        NaN -0.008125  0.002894 -0.018321  ...   \n",
       "2025-08-31 04:00:00  0.011378        NaN  0.003940  0.002721  0.005858  ...   \n",
       "2025-08-31 08:00:00  0.008109        NaN -0.001079 -0.000364 -0.000000  ...   \n",
       "\n",
       "                      BNTUSDT   ZENUSDT   NMRUSDT   RVNUSDT  IOSTUSDT  \\\n",
       "open_time                                                               \n",
       "2020-12-20 00:00:00       NaN       NaN       NaN       NaN       NaN   \n",
       "2020-12-20 04:00:00       NaN -0.004230       NaN       NaN       NaN   \n",
       "2020-12-20 08:00:00       NaN -0.007803       NaN       NaN       NaN   \n",
       "2020-12-20 12:00:00       NaN  0.013320       NaN       NaN       NaN   \n",
       "2020-12-20 16:00:00       NaN  0.005466       NaN       NaN       NaN   \n",
       "...                       ...       ...       ...       ...       ...   \n",
       "2025-08-30 16:00:00  0.069320 -0.000000 -0.003310 -0.000000      -0.0   \n",
       "2025-08-30 20:00:00 -0.000000 -0.000000  0.087846 -0.000000      -0.0   \n",
       "2025-08-31 00:00:00 -0.045067 -0.000000 -0.003298 -0.022676      -0.0   \n",
       "2025-08-31 04:00:00 -0.000000 -0.000000  0.022354  0.016260      -0.0   \n",
       "2025-08-31 08:00:00 -0.000000 -0.000000  0.002017 -0.000000      -0.0   \n",
       "\n",
       "                      OXTUSDT   CRVUSDT   HNTUSDT  BALUSDT   CHZUSDT  \n",
       "open_time                                                             \n",
       "2020-12-20 00:00:00       NaN       NaN       NaN      NaN       NaN  \n",
       "2020-12-20 04:00:00  0.006019       NaN -0.014607      NaN       NaN  \n",
       "2020-12-20 08:00:00 -0.000000       NaN -0.007803      NaN       NaN  \n",
       "2020-12-20 12:00:00 -0.014172       NaN -0.014172      NaN       NaN  \n",
       "2020-12-20 16:00:00  0.011844       NaN  0.027506      NaN       NaN  \n",
       "...                       ...       ...       ...      ...       ...  \n",
       "2025-08-30 16:00:00 -0.000000 -0.000000       NaN      NaN -0.000000  \n",
       "2025-08-30 20:00:00 -0.000000 -0.000000       NaN      NaN -0.000000  \n",
       "2025-08-31 00:00:00 -0.000000 -0.037928       NaN      NaN -0.045067  \n",
       "2025-08-31 04:00:00 -0.000000  0.012349       NaN      NaN -0.000000  \n",
       "2025-08-31 08:00:00  0.001869  0.010207       NaN      NaN -0.000000  \n",
       "\n",
       "[10291 rows x 73 columns]"
      ]
     },
     "execution_count": 108,
     "metadata": {},
     "output_type": "execute_result"
    }
   ],
   "source": [
    "winsorized_signal_10 = get_winsorized_signal(raw_signal, 0.1, 0.1)\n",
    "winsorized_signal_10"
   ]
  },
  {
   "cell_type": "code",
   "execution_count": 101,
   "id": "d16e93d6",
   "metadata": {},
   "outputs": [
    {
     "data": {
      "text/plain": [
       "<Axes: >"
      ]
     },
     "execution_count": 101,
     "metadata": {},
     "output_type": "execute_result"
    },
    {
     "data": {
      "image/png": "[encoded data removed]",
      "text/plain": [
       "<Figure size 640x480 with 1 Axes>"
      ]
     },
     "metadata": {},
     "output_type": "display_data"
    }
   ],
   "source": [
    "winsorized_signal_10.iloc[200].hist(bins=20)"
   ]
  },
  {
   "cell_type": "code",
   "execution_count": 103,
   "id": "e5efe9d0",
   "metadata": {},
   "outputs": [
    {
     "data": {
      "text/plain": [
       "open_time\n",
       "2020-12-20 00:00:00    0.000000\n",
       "2020-12-20 04:00:00   -0.002000\n",
       "2020-12-20 08:00:00    0.005209\n",
       "2020-12-20 12:00:00   -0.004331\n",
       "2020-12-20 16:00:00   -0.000546\n",
       "                         ...   \n",
       "2025-08-30 16:00:00    0.002794\n",
       "2025-08-30 20:00:00    0.001231\n",
       "2025-08-31 00:00:00    0.001694\n",
       "2025-08-31 04:00:00    0.001376\n",
       "2025-08-31 08:00:00   -0.004966\n",
       "Length: 10291, dtype: float64"
      ]
     },
     "execution_count": 103,
     "metadata": {},
     "output_type": "execute_result"
    }
   ],
   "source": [
    "transformed_signal = get_rank_demeaned_normalized_signal(winsorized_signal_10)\n",
    "gross_returns, net_returns = get_gross_returns_and_net_returns(transformed_signal, px)\n",
    "net_returns"
   ]
  },
  {
   "cell_type": "code",
   "execution_count": 104,
   "id": "27e1e3a1",
   "metadata": {},
   "outputs": [
    {
     "data": {
      "text/plain": [
       "<Axes: xlabel='open_time'>"
      ]
     },
     "execution_count": 104,
     "metadata": {},
     "output_type": "execute_result"
    },
    {
     "data": {
      "image/png": "[encoded data removed]",
      "text/plain": [
       "<Figure size 640x480 with 1 Axes>"
      ]
     },
     "metadata": {},
     "output_type": "display_data"
    }
   ],
   "source": [
    "gross_returns.cumsum().plot()"
   ]
  },
  {
   "cell_type": "code",
   "execution_count": 105,
   "id": "33eb5cf4",
   "metadata": {},
   "outputs": [
    {
     "data": {
      "text/plain": [
       "<Axes: xlabel='open_time'>"
      ]
     },
     "execution_count": 105,
     "metadata": {},
     "output_type": "execute_result"
    },
    {
     "data": {
      "image/png": "[encoded data removed]",
      "text/plain": [
       "<Figure size 640x480 with 1 Axes>"
      ]
     },
     "metadata": {},
     "output_type": "display_data"
    }
   ],
   "source": [
    "net_returns.cumsum().plot()"
   ]
  },
  {
   "cell_type": "code",
   "execution_count": 106,
   "id": "13f53603",
   "metadata": {},
   "outputs": [
    {
     "name": "stdout",
     "output_type": "stream",
     "text": [
      "Intel MKL WARNING: Support of Intel(R) Streaming SIMD Extensions 4.2 (Intel(R) SSE4.2) enabled only processors has been deprecated. Intel oneAPI Math Kernel Library 2025.0 will require Intel(R) Advanced Vector Extensions (Intel(R) AVX) instructions.\n"
     ]
    },
    {
     "name": "stderr",
     "output_type": "stream",
     "text": [
      "/var/folders/46/nmm5hcbx71d6nqy2066wsyjc0000gn/T/ipykernel_1100/3955471873.py:55: FutureWarning: Series.__getitem__ treating keys as positions is deprecated. In a future version, integer keys will always be treated as labels (consistent with DataFrame behavior). To access a value by position, use `ser.iloc[pos]`\n",
      "  return res.params[0], res.params[1]\n"
     ]
    },
    {
     "data": {
      "text/plain": [
       "{'avg returns': -0.5991416410969319,\n",
       " 'volatility': 0.25168019337552155,\n",
       " 'sharpe ratio': -2.3805673106861356,\n",
       " 'max drawdown': -1872.3806295420725,\n",
       " 'max drawdown duration': 1713.0,\n",
       " 'alpha_BTC': -0.00027389326097429316,\n",
       " 'beta_BTC': 0.0019530313411737629}"
      ]
     },
     "execution_count": 106,
     "metadata": {},
     "output_type": "execute_result"
    }
   ],
   "source": [
    "get_strategy_stats(net_returns, 4, px)"
   ]
  },
  {
   "cell_type": "markdown",
   "id": "b362693d",
   "metadata": {},
   "source": [
    "### With limits of 20% on each side"
   ]
  },
  {
   "cell_type": "code",
   "execution_count": 110,
   "id": "3b909653",
   "metadata": {},
   "outputs": [],
   "source": [
    "winsorized_signal_20 = get_winsorized_signal(raw_signal, 0.2, 0.2)"
   ]
  },
  {
   "cell_type": "code",
   "execution_count": 111,
   "id": "204f7d08",
   "metadata": {},
   "outputs": [
    {
     "data": {
      "text/plain": [
       "<Axes: >"
      ]
     },
     "execution_count": 111,
     "metadata": {},
     "output_type": "execute_result"
    },
    {
     "data": {
      "image/png": "[encoded data removed]",
      "text/plain": [
       "<Figure size 640x480 with 1 Axes>"
      ]
     },
     "metadata": {},
     "output_type": "display_data"
    }
   ],
   "source": [
    "winsorized_signal_20.iloc[200].hist(bins=20)"
   ]
  },
  {
   "cell_type": "code",
   "execution_count": 112,
   "id": "313c7964",
   "metadata": {},
   "outputs": [
    {
     "data": {
      "text/plain": [
       "open_time\n",
       "2020-12-20 00:00:00    0.000000\n",
       "2020-12-20 04:00:00   -0.002000\n",
       "2020-12-20 08:00:00    0.005012\n",
       "2020-12-20 12:00:00   -0.003288\n",
       "2020-12-20 16:00:00   -0.000033\n",
       "                         ...   \n",
       "2025-08-30 16:00:00    0.002715\n",
       "2025-08-30 20:00:00   -0.000254\n",
       "2025-08-31 00:00:00   -0.003713\n",
       "2025-08-31 04:00:00    0.002308\n",
       "2025-08-31 08:00:00   -0.002980\n",
       "Length: 10291, dtype: float64"
      ]
     },
     "execution_count": 112,
     "metadata": {},
     "output_type": "execute_result"
    }
   ],
   "source": [
    "transformed_signal = get_rank_demeaned_normalized_signal(winsorized_signal_20)\n",
    "gross_returns, net_returns = get_gross_returns_and_net_returns(transformed_signal, px)\n",
    "net_returns"
   ]
  },
  {
   "cell_type": "code",
   "execution_count": 113,
   "id": "7d5ccc24",
   "metadata": {},
   "outputs": [
    {
     "data": {
      "text/plain": [
       "<Axes: xlabel='open_time'>"
      ]
     },
     "execution_count": 113,
     "metadata": {},
     "output_type": "execute_result"
    },
    {
     "data": {
      "image/png": "[encoded data removed]",
      "text/plain": [
       "<Figure size 640x480 with 1 Axes>"
      ]
     },
     "metadata": {},
     "output_type": "display_data"
    }
   ],
   "source": [
    "gross_returns.cumsum().plot()"
   ]
  },
  {
   "cell_type": "code",
   "execution_count": 114,
   "id": "41a8c057",
   "metadata": {},
   "outputs": [
    {
     "data": {
      "text/plain": [
       "<Axes: xlabel='open_time'>"
      ]
     },
     "execution_count": 114,
     "metadata": {},
     "output_type": "execute_result"
    },
    {
     "data": {
      "image/png": "[encoded data removed]",
      "text/plain": [
       "<Figure size 640x480 with 1 Axes>"
      ]
     },
     "metadata": {},
     "output_type": "display_data"
    }
   ],
   "source": [
    "net_returns.cumsum().plot()"
   ]
  },
  {
   "cell_type": "code",
   "execution_count": 115,
   "id": "5cf9a823",
   "metadata": {},
   "outputs": [
    {
     "name": "stdout",
     "output_type": "stream",
     "text": [
      "Intel MKL WARNING: Support of Intel(R) Streaming SIMD Extensions 4.2 (Intel(R) SSE4.2) enabled only processors has been deprecated. Intel oneAPI Math Kernel Library 2025.0 will require Intel(R) Advanced Vector Extensions (Intel(R) AVX) instructions.\n"
     ]
    },
    {
     "name": "stderr",
     "output_type": "stream",
     "text": [
      "/var/folders/46/nmm5hcbx71d6nqy2066wsyjc0000gn/T/ipykernel_1100/3955471873.py:55: FutureWarning: Series.__getitem__ treating keys as positions is deprecated. In a future version, integer keys will always be treated as labels (consistent with DataFrame behavior). To access a value by position, use `ser.iloc[pos]`\n",
      "  return res.params[0], res.params[1]\n"
     ]
    },
    {
     "data": {
      "text/plain": [
       "{'avg returns': -0.7135629472369659,\n",
       " 'volatility': 0.22185812381942818,\n",
       " 'sharpe ratio': -3.2163029910851475,\n",
       " 'max drawdown': -1291.186159727889,\n",
       " 'max drawdown duration': 1714.1666666666667,\n",
       " 'alpha_BTC': -0.0003130456320925331,\n",
       " 'beta_BTC': -0.05444637446100382}"
      ]
     },
     "execution_count": 115,
     "metadata": {},
     "output_type": "execute_result"
    }
   ],
   "source": [
    "get_strategy_stats(net_returns, 4, px)"
   ]
  },
  {
   "cell_type": "markdown",
   "id": "dac9950c",
   "metadata": {},
   "source": [
    "# Strategy 3: Truncate Simple One-Period (4h) Reversal Signal"
   ]
  },
  {
   "cell_type": "code",
   "execution_count": 49,
   "id": "ad2214ef",
   "metadata": {},
   "outputs": [],
   "source": [
    "ret = px / px.shift() - 1\n",
    "raw_signal = ret * -1"
   ]
  },
  {
   "cell_type": "markdown",
   "id": "e492ebf4",
   "metadata": {},
   "source": [
    "### Truncate top and bottom 2%"
   ]
  },
  {
   "cell_type": "code",
   "execution_count": 72,
   "id": "e0553817",
   "metadata": {},
   "outputs": [],
   "source": [
    "truncated_signal = get_truncated_signal(raw_signal, 0.02, 0.02)"
   ]
  },
  {
   "cell_type": "code",
   "execution_count": 73,
   "id": "cfede77d",
   "metadata": {},
   "outputs": [
    {
     "data": {
      "text/plain": [
       "open_time\n",
       "2020-12-20 00:00:00    0.000000\n",
       "2020-12-20 04:00:00   -0.002000\n",
       "2020-12-20 08:00:00    0.008513\n",
       "2020-12-20 12:00:00   -0.003174\n",
       "2020-12-20 16:00:00   -0.002331\n",
       "                         ...   \n",
       "2025-08-30 16:00:00    0.000388\n",
       "2025-08-30 20:00:00   -0.000223\n",
       "2025-08-31 00:00:00    0.003503\n",
       "2025-08-31 04:00:00    0.001613\n",
       "2025-08-31 08:00:00   -0.004087\n",
       "Length: 10291, dtype: float64"
      ]
     },
     "execution_count": 73,
     "metadata": {},
     "output_type": "execute_result"
    }
   ],
   "source": [
    "transformed_signal = get_rank_demeaned_normalized_signal(truncated_signal)\n",
    "gross_returns, net_returns = get_gross_returns_and_net_returns(transformed_signal, px)\n",
    "net_returns"
   ]
  },
  {
   "cell_type": "code",
   "execution_count": 74,
   "id": "79cd3726",
   "metadata": {},
   "outputs": [
    {
     "data": {
      "text/plain": [
       "<Axes: xlabel='open_time'>"
      ]
     },
     "execution_count": 74,
     "metadata": {},
     "output_type": "execute_result"
    },
    {
     "data": {
      "image/png": "[encoded data removed]",
      "text/plain": [
       "<Figure size 640x480 with 1 Axes>"
      ]
     },
     "metadata": {},
     "output_type": "display_data"
    }
   ],
   "source": [
    "gross_returns.cumsum().plot()"
   ]
  },
  {
   "cell_type": "code",
   "execution_count": 75,
   "id": "f651bb7e",
   "metadata": {},
   "outputs": [
    {
     "data": {
      "text/plain": [
       "<Axes: xlabel='open_time'>"
      ]
     },
     "execution_count": 75,
     "metadata": {},
     "output_type": "execute_result"
    },
    {
     "data": {
      "image/png": "[encoded data removed]",
      "text/plain": [
       "<Figure size 640x480 with 1 Axes>"
      ]
     },
     "metadata": {},
     "output_type": "display_data"
    }
   ],
   "source": [
    "net_returns.cumsum().plot()"
   ]
  },
  {
   "cell_type": "code",
   "execution_count": 76,
   "id": "7212e475",
   "metadata": {},
   "outputs": [
    {
     "name": "stdout",
     "output_type": "stream",
     "text": [
      "Intel MKL WARNING: Support of Intel(R) Streaming SIMD Extensions 4.2 (Intel(R) SSE4.2) enabled only processors has been deprecated. Intel oneAPI Math Kernel Library 2025.0 will require Intel(R) Advanced Vector Extensions (Intel(R) AVX) instructions.\n"
     ]
    },
    {
     "name": "stderr",
     "output_type": "stream",
     "text": [
      "/var/folders/46/nmm5hcbx71d6nqy2066wsyjc0000gn/T/ipykernel_1134/1307126928.py:55: FutureWarning: Series.__getitem__ treating keys as positions is deprecated. In a future version, integer keys will always be treated as labels (consistent with DataFrame behavior). To access a value by position, use `ser.iloc[pos]`\n",
      "  return res.params[0], res.params[1]\n"
     ]
    },
    {
     "data": {
      "text/plain": [
       "{'avg returns': -1.8875203317937959,\n",
       " 'volatility': 0.22289183891152073,\n",
       " 'sharpe ratio': -8.468324102898478,\n",
       " 'max drawdown': -1046.770683010125,\n",
       " 'max drawdown duration': 1712.6666666666667,\n",
       " 'alpha_BTC': -0.0008662856653092652,\n",
       " 'beta_BTC': 0.019069918430511194}"
      ]
     },
     "execution_count": 76,
     "metadata": {},
     "output_type": "execute_result"
    }
   ],
   "source": [
    "get_strategy_stats(net_returns, 4, px)"
   ]
  },
  {
   "cell_type": "markdown",
   "id": "9db4caae",
   "metadata": {},
   "source": [
    "### Truncate top and bottom 5%"
   ]
  },
  {
   "cell_type": "code",
   "execution_count": 55,
   "id": "27046e3a",
   "metadata": {},
   "outputs": [],
   "source": [
    "truncated_signal = get_truncated_signal(raw_signal, 0.05, 0.05)"
   ]
  },
  {
   "cell_type": "code",
   "execution_count": 51,
   "id": "fb52f5ad",
   "metadata": {},
   "outputs": [
    {
     "data": {
      "text/plain": [
       "open_time\n",
       "2020-12-20 00:00:00    0.000000\n",
       "2020-12-20 04:00:00   -0.002000\n",
       "2020-12-20 08:00:00    0.008163\n",
       "2020-12-20 12:00:00   -0.003596\n",
       "2020-12-20 16:00:00   -0.002719\n",
       "                         ...   \n",
       "2025-08-30 16:00:00   -0.001140\n",
       "2025-08-30 20:00:00    0.001623\n",
       "2025-08-31 00:00:00    0.002691\n",
       "2025-08-31 04:00:00    0.002246\n",
       "2025-08-31 08:00:00   -0.004314\n",
       "Length: 10291, dtype: float64"
      ]
     },
     "execution_count": 51,
     "metadata": {},
     "output_type": "execute_result"
    }
   ],
   "source": [
    "transformed_signal = get_rank_demeaned_normalized_signal(truncated_signal)\n",
    "gross_returns, net_returns = get_gross_returns_and_net_returns(transformed_signal, px)\n",
    "net_returns"
   ]
  },
  {
   "cell_type": "code",
   "execution_count": 52,
   "id": "1ab82984",
   "metadata": {},
   "outputs": [
    {
     "data": {
      "text/plain": [
       "<Axes: xlabel='open_time'>"
      ]
     },
     "execution_count": 52,
     "metadata": {},
     "output_type": "execute_result"
    },
    {
     "data": {
      "image/png": "[encoded data removed]",
      "text/plain": [
       "<Figure size 640x480 with 1 Axes>"
      ]
     },
     "metadata": {},
     "output_type": "display_data"
    }
   ],
   "source": [
    "gross_returns.cumsum().plot()"
   ]
  },
  {
   "cell_type": "code",
   "execution_count": 53,
   "id": "9c41d2fb",
   "metadata": {},
   "outputs": [
    {
     "data": {
      "text/plain": [
       "<Axes: xlabel='open_time'>"
      ]
     },
     "execution_count": 53,
     "metadata": {},
     "output_type": "execute_result"
    },
    {
     "data": {
      "image/png": "[encoded data removed]",
      "text/plain": [
       "<Figure size 640x480 with 1 Axes>"
      ]
     },
     "metadata": {},
     "output_type": "display_data"
    }
   ],
   "source": [
    "net_returns.cumsum().plot()"
   ]
  },
  {
   "cell_type": "code",
   "execution_count": 56,
   "id": "c240421e",
   "metadata": {},
   "outputs": [
    {
     "name": "stdout",
     "output_type": "stream",
     "text": [
      "Intel MKL WARNING: Support of Intel(R) Streaming SIMD Extensions 4.2 (Intel(R) SSE4.2) enabled only processors has been deprecated. Intel oneAPI Math Kernel Library 2025.0 will require Intel(R) Advanced Vector Extensions (Intel(R) AVX) instructions.\n"
     ]
    },
    {
     "name": "stderr",
     "output_type": "stream",
     "text": [
      "/var/folders/46/nmm5hcbx71d6nqy2066wsyjc0000gn/T/ipykernel_1134/1307126928.py:55: FutureWarning: Series.__getitem__ treating keys as positions is deprecated. In a future version, integer keys will always be treated as labels (consistent with DataFrame behavior). To access a value by position, use `ser.iloc[pos]`\n",
      "  return res.params[0], res.params[1]\n"
     ]
    },
    {
     "data": {
      "text/plain": [
       "{'avg returns': -2.5406752904476027,\n",
       " 'volatility': 0.21734183061906295,\n",
       " 'sharpe ratio': -11.689766683251452,\n",
       " 'max drawdown': -1284.3898937271772,\n",
       " 'max drawdown duration': 1714.0,\n",
       " 'alpha_BTC': -0.0011640201644547803,\n",
       " 'beta_BTC': 0.016626520078666614}"
      ]
     },
     "execution_count": 56,
     "metadata": {},
     "output_type": "execute_result"
    }
   ],
   "source": [
    "get_strategy_stats(net_returns, 4, px)"
   ]
  },
  {
   "cell_type": "markdown",
   "id": "7d45efd3",
   "metadata": {},
   "source": [
    "### Truncate top and bottom 10%"
   ]
  },
  {
   "cell_type": "code",
   "execution_count": 58,
   "id": "e5d38c84",
   "metadata": {},
   "outputs": [],
   "source": [
    "truncated_signal = get_truncated_signal(raw_signal, 0.1, 0.1)"
   ]
  },
  {
   "cell_type": "code",
   "execution_count": 45,
   "id": "9bf7aa37",
   "metadata": {},
   "outputs": [
    {
     "data": {
      "text/plain": [
       "open_time\n",
       "2020-12-20 00:00:00    0.000000\n",
       "2020-12-20 04:00:00   -0.002000\n",
       "2020-12-20 08:00:00    0.011378\n",
       "2020-12-20 12:00:00   -0.003007\n",
       "2020-12-20 16:00:00   -0.001665\n",
       "                         ...   \n",
       "2025-08-30 16:00:00   -0.001659\n",
       "2025-08-30 20:00:00   -0.002100\n",
       "2025-08-31 00:00:00    0.000316\n",
       "2025-08-31 04:00:00    0.002444\n",
       "2025-08-31 08:00:00   -0.005036\n",
       "Length: 10291, dtype: float64"
      ]
     },
     "execution_count": 45,
     "metadata": {},
     "output_type": "execute_result"
    }
   ],
   "source": [
    "transformed_signal = get_rank_demeaned_normalized_signal(truncated_signal)\n",
    "gross_returns, net_returns = get_gross_returns_and_net_returns(transformed_signal, px)\n",
    "net_returns"
   ]
  },
  {
   "cell_type": "code",
   "execution_count": 46,
   "id": "fd94dd05",
   "metadata": {},
   "outputs": [
    {
     "data": {
      "text/plain": [
       "<Axes: xlabel='open_time'>"
      ]
     },
     "execution_count": 46,
     "metadata": {},
     "output_type": "execute_result"
    },
    {
     "data": {
      "image/png": "[encoded data removed]",
      "text/plain": [
       "<Figure size 640x480 with 1 Axes>"
      ]
     },
     "metadata": {},
     "output_type": "display_data"
    }
   ],
   "source": [
    "gross_returns.cumsum().plot()"
   ]
  },
  {
   "cell_type": "code",
   "execution_count": 47,
   "id": "afd736a5",
   "metadata": {},
   "outputs": [
    {
     "data": {
      "text/plain": [
       "<Axes: xlabel='open_time'>"
      ]
     },
     "execution_count": 47,
     "metadata": {},
     "output_type": "execute_result"
    },
    {
     "data": {
      "image/png": "[encoded data removed]",
      "text/plain": [
       "<Figure size 640x480 with 1 Axes>"
      ]
     },
     "metadata": {},
     "output_type": "display_data"
    }
   ],
   "source": [
    "net_returns.cumsum().plot()"
   ]
  },
  {
   "cell_type": "code",
   "execution_count": 48,
   "id": "2746bbff",
   "metadata": {},
   "outputs": [
    {
     "name": "stdout",
     "output_type": "stream",
     "text": [
      "Intel MKL WARNING: Support of Intel(R) Streaming SIMD Extensions 4.2 (Intel(R) SSE4.2) enabled only processors has been deprecated. Intel oneAPI Math Kernel Library 2025.0 will require Intel(R) Advanced Vector Extensions (Intel(R) AVX) instructions.\n"
     ]
    },
    {
     "name": "stderr",
     "output_type": "stream",
     "text": [
      "/var/folders/46/nmm5hcbx71d6nqy2066wsyjc0000gn/T/ipykernel_1134/1307126928.py:55: FutureWarning: Series.__getitem__ treating keys as positions is deprecated. In a future version, integer keys will always be treated as labels (consistent with DataFrame behavior). To access a value by position, use `ser.iloc[pos]`\n",
      "  return res.params[0], res.params[1]\n"
     ]
    },
    {
     "data": {
      "text/plain": [
       "{'avg returns': -3.2884305621402614,\n",
       " 'volatility': 0.22306134685455964,\n",
       " 'sharpe ratio': -14.742269821783072,\n",
       " 'max drawdown': -1040.0631471076124,\n",
       " 'max drawdown duration': 1714.0,\n",
       " 'alpha_BTC': -0.0015052871168824752,\n",
       " 'beta_BTC': 0.015592860533197885}"
      ]
     },
     "execution_count": 48,
     "metadata": {},
     "output_type": "execute_result"
    }
   ],
   "source": [
    "get_strategy_stats(net_returns, 4, px)"
   ]
  },
  {
   "cell_type": "markdown",
   "id": "a6f402b2",
   "metadata": {},
   "source": [
    "### Truncate top and bottom 20%"
   ]
  },
  {
   "cell_type": "code",
   "execution_count": 65,
   "id": "c91d5eb5",
   "metadata": {},
   "outputs": [],
   "source": [
    "truncated_signal = get_truncated_signal(raw_signal, 0.2, 0.2)"
   ]
  },
  {
   "cell_type": "code",
   "execution_count": 66,
   "id": "261d6beb",
   "metadata": {},
   "outputs": [
    {
     "data": {
      "text/plain": [
       "open_time\n",
       "2020-12-20 00:00:00    0.000000\n",
       "2020-12-20 04:00:00   -0.002000\n",
       "2020-12-20 08:00:00   -0.003592\n",
       "2020-12-20 12:00:00   -0.003317\n",
       "2020-12-20 16:00:00   -0.001082\n",
       "                         ...   \n",
       "2025-08-30 16:00:00   -0.002325\n",
       "2025-08-30 20:00:00   -0.001595\n",
       "2025-08-31 00:00:00   -0.000541\n",
       "2025-08-31 04:00:00    0.000807\n",
       "2025-08-31 08:00:00   -0.003870\n",
       "Length: 10291, dtype: float64"
      ]
     },
     "execution_count": 66,
     "metadata": {},
     "output_type": "execute_result"
    }
   ],
   "source": [
    "transformed_signal = get_rank_demeaned_normalized_signal(truncated_signal)\n",
    "gross_returns, net_returns = get_gross_returns_and_net_returns(transformed_signal, px)\n",
    "net_returns"
   ]
  },
  {
   "cell_type": "code",
   "execution_count": 69,
   "id": "60586baa",
   "metadata": {},
   "outputs": [
    {
     "data": {
      "text/plain": [
       "<Axes: xlabel='open_time'>"
      ]
     },
     "execution_count": 69,
     "metadata": {},
     "output_type": "execute_result"
    },
    {
     "data": {
      "image/png": "[encoded data removed]",
      "text/plain": [
       "<Figure size 640x480 with 1 Axes>"
      ]
     },
     "metadata": {},
     "output_type": "display_data"
    }
   ],
   "source": [
    "gross_returns.cumsum().plot()"
   ]
  },
  {
   "cell_type": "code",
   "execution_count": 70,
   "id": "76025f21",
   "metadata": {},
   "outputs": [
    {
     "data": {
      "text/plain": [
       "<Axes: xlabel='open_time'>"
      ]
     },
     "execution_count": 70,
     "metadata": {},
     "output_type": "execute_result"
    },
    {
     "data": {
      "image/png": "[encoded data removed]",
      "text/plain": [
       "<Figure size 640x480 with 1 Axes>"
      ]
     },
     "metadata": {},
     "output_type": "display_data"
    }
   ],
   "source": [
    "net_returns.cumsum().plot()"
   ]
  },
  {
   "cell_type": "code",
   "execution_count": 71,
   "id": "b6a96b26",
   "metadata": {},
   "outputs": [
    {
     "name": "stdout",
     "output_type": "stream",
     "text": [
      "Intel MKL WARNING: Support of Intel(R) Streaming SIMD Extensions 4.2 (Intel(R) SSE4.2) enabled only processors has been deprecated. Intel oneAPI Math Kernel Library 2025.0 will require Intel(R) Advanced Vector Extensions (Intel(R) AVX) instructions.\n"
     ]
    },
    {
     "name": "stderr",
     "output_type": "stream",
     "text": [
      "/var/folders/46/nmm5hcbx71d6nqy2066wsyjc0000gn/T/ipykernel_1134/1307126928.py:55: FutureWarning: Series.__getitem__ treating keys as positions is deprecated. In a future version, integer keys will always be treated as labels (consistent with DataFrame behavior). To access a value by position, use `ser.iloc[pos]`\n",
      "  return res.params[0], res.params[1]\n"
     ]
    },
    {
     "data": {
      "text/plain": [
       "{'avg returns': -4.613967098266714,\n",
       " 'volatility': 0.2380324873159387,\n",
       " 'sharpe ratio': -19.38377046887146,\n",
       " 'max drawdown': nan,\n",
       " 'max drawdown duration': 1715.0,\n",
       " 'alpha_BTC': -0.0021096606581416247,\n",
       " 'beta_BTC': 0.01123781852177235}"
      ]
     },
     "execution_count": 71,
     "metadata": {},
     "output_type": "execute_result"
    }
   ],
   "source": [
    "get_strategy_stats(net_returns, 4, px)"
   ]
  },
  {
   "cell_type": "markdown",
   "id": "42168aaa",
   "metadata": {},
   "source": [
    "# Strategy 4: Rank-Threshold Simple One-Period (4h) Reversal Signal"
   ]
  },
  {
   "cell_type": "markdown",
   "id": "6c21978e",
   "metadata": {},
   "source": [
    "# Strategy 5: Inverse CDF Of Simple One-Period (4h) Reversal Signal"
   ]
  },
  {
   "cell_type": "markdown",
   "id": "356a277e",
   "metadata": {},
   "source": [
    "# Strategy 6: One-Period (4h) Reversal Signal Traded Less Frequently Than One Period"
   ]
  },
  {
   "cell_type": "markdown",
   "id": "0ae0f927",
   "metadata": {},
   "source": [
    "# Strategy 7: Multiple-Period Reversal Signal Traded Less Frequently Than One Period"
   ]
  },
  {
   "cell_type": "markdown",
   "id": "c9d91268",
   "metadata": {},
   "source": [
    "# Strategy 8: Use Raw One-Period (4h) Reversal Signal (Don't Rank But Do Demean-Normalize)"
   ]
  },
  {
   "cell_type": "markdown",
   "id": "92e42095",
   "metadata": {},
   "source": [
    "# Strategy 9: Multiple-Period Reversal Signal Traded Every Period"
   ]
  },
  {
   "cell_type": "markdown",
   "id": "87968264",
   "metadata": {},
   "source": [
    "### Price Change Over 8 Hours"
   ]
  },
  {
   "cell_type": "code",
   "execution_count": 13,
   "id": "a57d2fe9",
   "metadata": {},
   "outputs": [
    {
     "data": {
      "text/plain": [
       "open_time\n",
       "2020-12-20 00:00:00    0.000000\n",
       "2020-12-20 04:00:00    0.000000\n",
       "2020-12-20 08:00:00   -0.002000\n",
       "2020-12-20 12:00:00   -0.006960\n",
       "2020-12-20 16:00:00   -0.001425\n",
       "                         ...   \n",
       "2025-08-30 16:00:00    0.004055\n",
       "2025-08-30 20:00:00    0.001682\n",
       "2025-08-31 00:00:00    0.000036\n",
       "2025-08-31 04:00:00    0.001867\n",
       "2025-08-31 08:00:00   -0.002286\n",
       "Length: 10291, dtype: float64"
      ]
     },
     "execution_count": 13,
     "metadata": {},
     "output_type": "execute_result"
    }
   ],
   "source": [
    "ret = px / px.shift(2) - 1\n",
    "raw_signal = -1 * ret\n",
    "transformed_signal = get_rank_demeaned_normalized_signal(raw_signal)\n",
    "gross_returns, net_returns = get_gross_returns_and_net_returns(transformed_signal, px)\n",
    "net_returns"
   ]
  },
  {
   "cell_type": "code",
   "execution_count": 14,
   "id": "f7a94c48",
   "metadata": {},
   "outputs": [
    {
     "data": {
      "text/plain": [
       "<Axes: xlabel='open_time'>"
      ]
     },
     "execution_count": 14,
     "metadata": {},
     "output_type": "execute_result"
    },
    {
     "data": {
      "image/png": "[encoded data removed]",
      "text/plain": [
       "<Figure size 640x480 with 1 Axes>"
      ]
     },
     "metadata": {},
     "output_type": "display_data"
    }
   ],
   "source": [
    "gross_returns.cumsum().plot()"
   ]
  },
  {
   "cell_type": "code",
   "execution_count": 15,
   "id": "8e52ca1d",
   "metadata": {},
   "outputs": [
    {
     "data": {
      "text/plain": [
       "<Axes: xlabel='open_time'>"
      ]
     },
     "execution_count": 15,
     "metadata": {},
     "output_type": "execute_result"
    },
    {
     "data": {
      "image/png": "[encoded data removed]",
      "text/plain": [
       "<Figure size 640x480 with 1 Axes>"
      ]
     },
     "metadata": {},
     "output_type": "display_data"
    }
   ],
   "source": [
    "net_returns.cumsum().plot()"
   ]
  },
  {
   "cell_type": "code",
   "execution_count": 16,
   "id": "c84084bf",
   "metadata": {},
   "outputs": [
    {
     "name": "stdout",
     "output_type": "stream",
     "text": [
      "Intel MKL WARNING: Support of Intel(R) Streaming SIMD Extensions 4.2 (Intel(R) SSE4.2) enabled only processors has been deprecated. Intel oneAPI Math Kernel Library 2025.0 will require Intel(R) Advanced Vector Extensions (Intel(R) AVX) instructions.\n"
     ]
    },
    {
     "name": "stderr",
     "output_type": "stream",
     "text": [
      "/var/folders/46/nmm5hcbx71d6nqy2066wsyjc0000gn/T/ipykernel_1162/3733429805.py:54: FutureWarning: Series.__getitem__ treating keys as positions is deprecated. In a future version, integer keys will always be treated as labels (consistent with DataFrame behavior). To access a value by position, use `ser.iloc[pos]`\n",
      "  return res.params[0], res.params[1]\n"
     ]
    },
    {
     "data": {
      "text/plain": [
       "{'avg returns': 1.2846476576733588,\n",
       " 'volatility': 0.29705483855829473,\n",
       " 'sharpe ratio': 4.324614485016229,\n",
       " 'max drawdown': -0.20614532393703922,\n",
       " 'max drawdown duration': 1360.5,\n",
       " 'alpha_BTC': 0.0005799394808280853,\n",
       " 'beta_BTC': 0.029142933797301936}"
      ]
     },
     "execution_count": 16,
     "metadata": {},
     "output_type": "execute_result"
    }
   ],
   "source": [
    "get_strategy_stats(net_returns, 4, px)"
   ]
  },
  {
   "cell_type": "markdown",
   "id": "00afa781",
   "metadata": {},
   "source": [
    "### Price Change Over 12 Hours"
   ]
  },
  {
   "cell_type": "code",
   "execution_count": 17,
   "id": "a69df278",
   "metadata": {},
   "outputs": [
    {
     "data": {
      "text/plain": [
       "open_time\n",
       "2020-12-20 00:00:00    0.000000\n",
       "2020-12-20 04:00:00    0.000000\n",
       "2020-12-20 08:00:00    0.000000\n",
       "2020-12-20 12:00:00   -0.002000\n",
       "2020-12-20 16:00:00    0.000650\n",
       "                         ...   \n",
       "2025-08-30 16:00:00    0.006626\n",
       "2025-08-30 20:00:00    0.001749\n",
       "2025-08-31 00:00:00    0.003672\n",
       "2025-08-31 04:00:00    0.003141\n",
       "2025-08-31 08:00:00   -0.000958\n",
       "Length: 10291, dtype: float64"
      ]
     },
     "execution_count": 17,
     "metadata": {},
     "output_type": "execute_result"
    }
   ],
   "source": [
    "ret = px / px.shift(3) - 1\n",
    "raw_signal = -1 * ret\n",
    "transformed_signal = get_rank_demeaned_normalized_signal(raw_signal)\n",
    "gross_returns, net_returns = get_gross_returns_and_net_returns(transformed_signal, px)\n",
    "net_returns"
   ]
  },
  {
   "cell_type": "code",
   "execution_count": 18,
   "id": "740104d0",
   "metadata": {},
   "outputs": [
    {
     "data": {
      "text/plain": [
       "<Axes: xlabel='open_time'>"
      ]
     },
     "execution_count": 18,
     "metadata": {},
     "output_type": "execute_result"
    },
    {
     "data": {
      "image/png": "[encoded data removed]",
      "text/plain": [
       "<Figure size 640x480 with 1 Axes>"
      ]
     },
     "metadata": {},
     "output_type": "display_data"
    }
   ],
   "source": [
    "gross_returns.cumsum().plot()"
   ]
  },
  {
   "cell_type": "code",
   "execution_count": 19,
   "id": "505fe19b",
   "metadata": {},
   "outputs": [
    {
     "data": {
      "text/plain": [
       "<Axes: xlabel='open_time'>"
      ]
     },
     "execution_count": 19,
     "metadata": {},
     "output_type": "execute_result"
    },
    {
     "data": {
      "image/png": "[encoded data removed]",
      "text/plain": [
       "<Figure size 640x480 with 1 Axes>"
      ]
     },
     "metadata": {},
     "output_type": "display_data"
    }
   ],
   "source": [
    "net_returns.cumsum().plot()"
   ]
  },
  {
   "cell_type": "code",
   "execution_count": 20,
   "id": "174a8814",
   "metadata": {},
   "outputs": [
    {
     "name": "stdout",
     "output_type": "stream",
     "text": [
      "Intel MKL WARNING: Support of Intel(R) Streaming SIMD Extensions 4.2 (Intel(R) SSE4.2) enabled only processors has been deprecated. Intel oneAPI Math Kernel Library 2025.0 will require Intel(R) Advanced Vector Extensions (Intel(R) AVX) instructions.\n"
     ]
    },
    {
     "name": "stderr",
     "output_type": "stream",
     "text": [
      "/var/folders/46/nmm5hcbx71d6nqy2066wsyjc0000gn/T/ipykernel_1162/3733429805.py:54: FutureWarning: Series.__getitem__ treating keys as positions is deprecated. In a future version, integer keys will always be treated as labels (consistent with DataFrame behavior). To access a value by position, use `ser.iloc[pos]`\n",
      "  return res.params[0], res.params[1]\n"
     ]
    },
    {
     "data": {
      "text/plain": [
       "{'avg returns': 1.7050576785936598,\n",
       " 'volatility': 0.29861784738459457,\n",
       " 'sharpe ratio': 5.709831791794043,\n",
       " 'max drawdown': -0.5941779594602531,\n",
       " 'max drawdown duration': 1285.8333333333333,\n",
       " 'alpha_BTC': 0.0007740314842111819,\n",
       " 'beta_BTC': 0.02016271520285459}"
      ]
     },
     "execution_count": 20,
     "metadata": {},
     "output_type": "execute_result"
    }
   ],
   "source": [
    "get_strategy_stats(net_returns, 4, px)"
   ]
  },
  {
   "cell_type": "markdown",
   "id": "5b49bc91",
   "metadata": {},
   "source": [
    "# Strategy 10: Multiple-Period Reversal Signal Traded Less Frequently Than One Period"
   ]
  },
  {
   "cell_type": "code",
   "execution_count": null,
   "id": "98171e13",
   "metadata": {},
   "outputs": [],
   "source": []
  }
 ],
 "metadata": {
  "kernelspec": {
   "display_name": "Python 3 (ipykernel)",
   "language": "python",
   "name": "python3"
  },
  "language_info": {
   "codemirror_mode": {
    "name": "ipython",
    "version": 3
   },
   "file_extension": ".py",
   "mimetype": "text/x-python",
   "name": "python",
   "nbconvert_exporter": "python",
   "pygments_lexer": "ipython3",
   "version": "3.11.5"
  }
 },
 "nbformat": 4,
 "nbformat_minor": 5
}
