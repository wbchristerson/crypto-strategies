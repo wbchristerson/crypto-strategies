{
 "cells": [
  {
   "cell_type": "markdown",
   "id": "9f8339f4",
   "metadata": {},
   "source": [
    "# Idea\n",
    "\n",
    "Find times of the quarter with big movements in price and watch the drift of the asset for several periods after. Trade based on that (either hypothesizing momentum or reversal).\n",
    "\n",
    "Example signal: long or short assets for days or a couple of weeks right after earnings according to size and direction of 1-day, post-event returns (similar to \"post-earnings announcement drift\")."
   ]
  },
  {
   "cell_type": "code",
   "execution_count": null,
   "id": "03a4ce34",
   "metadata": {},
   "outputs": [],
   "source": []
  }
 ],
 "metadata": {
  "kernelspec": {
   "display_name": "Python 3 (ipykernel)",
   "language": "python",
   "name": "python3"
  },
  "language_info": {
   "codemirror_mode": {
    "name": "ipython",
    "version": 3
   },
   "file_extension": ".py",
   "mimetype": "text/x-python",
   "name": "python",
   "nbconvert_exporter": "python",
   "pygments_lexer": "ipython3",
   "version": "3.11.5"
  }
 },
 "nbformat": 4,
 "nbformat_minor": 5
}
