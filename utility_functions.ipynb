{
 "cells": [
  {
   "cell_type": "code",
   "execution_count": 1,
   "id": "d86a128f",
   "metadata": {},
   "outputs": [
    {
     "name": "stdout",
     "output_type": "stream",
     "text": [
      "Intel MKL WARNING: Support of Intel(R) Streaming SIMD Extensions 4.2 (Intel(R) SSE4.2) enabled only processors has been deprecated. Intel oneAPI Math Kernel Library 2025.0 will require Intel(R) Advanced Vector Extensions (Intel(R) AVX) instructions.\n",
      "Intel MKL WARNING: Support of Intel(R) Streaming SIMD Extensions 4.2 (Intel(R) SSE4.2) enabled only processors has been deprecated. Intel oneAPI Math Kernel Library 2025.0 will require Intel(R) Advanced Vector Extensions (Intel(R) AVX) instructions.\n"
     ]
    }
   ],
   "source": [
    "import statsmodels.api as sm\n",
    "import numpy as np\n",
    "\n",
    "def get_rank_demeaned_normalized_signal(raw_signal):\n",
    "    signal_rank = raw_signal.rank(axis=1)\n",
    "    signal_mean = raw_signal.rank(axis=1).mean(axis=1)\n",
    "    demeaned_signal = signal_rank.subtract(signal_mean, axis=0)\n",
    "    return demeaned_signal.divide(demeaned_signal.abs().sum(axis=1), axis=0)\n",
    "\n",
    "\n",
    "def get_gross_returns_and_net_returns(signal_weights, px):\n",
    "    asset_returns = px / px.shift() - 1\n",
    "    weighted_returns = signal_weights.shift() * asset_returns\n",
    "    gross_returns = weighted_returns.sum(axis=1)\n",
    "    turnover = (signal_weights.fillna(0) - signal_weights.shift().fillna(0)).abs().sum(axis=1)\n",
    "    tcost_bps = 20 # (commission + slippage)\n",
    "    net_returns = gross_returns.subtract(turnover * tcost_bps * 1e-4, fill_value = 0)\n",
    "    return gross_returns, net_returns\n",
    "\n",
    "\n",
    "# returns pair in the form of (alpha, beta)\n",
    "def get_alpha_beta_to_asset(net_returns, benchmark_asset_returns):\n",
    "    model = sm.OLS(net_returns, sm.add_constant(benchmark_asset_returns))\n",
    "    res = model.fit()\n",
    "    return res.params[0], res.params[1]\n",
    "\n",
    "\n",
    "def get_max_drawdown(net_returns):\n",
    "    cumulative_net_returns = net_returns.cumsum()\n",
    "    drawdowns = cumulative_net_returns / cumulative_net_returns.expanding(min_periods=1).max() - 1\n",
    "    return drawdowns[drawdowns != float('-inf')].min()\n",
    "\n",
    "\n",
    "def get_max_drawdown_duration(net_returns, hours_freq):\n",
    "    cumulative_net_returns = net_returns.cumsum()\n",
    "    \n",
    "    peak = cumulative_net_returns.expanding(min_periods=1).max()\n",
    "    \n",
    "    max_drawdown_duration = 0\n",
    "    current_drawdown_duration = 0\n",
    "    \n",
    "    for dt in cumulative_net_returns.index:\n",
    "        if cumulative_net_returns[dt] >= peak[dt]:\n",
    "            current_drawdown_duration = 0\n",
    "        else:\n",
    "            current_drawdown_duration += 1\n",
    "            max_drawdown_duration = max(max_drawdown_duration, current_drawdown_duration)\n",
    "    return max_drawdown_duration * hours_freq / 24\n",
    "\n",
    "\n",
    "# trade_hours_freq = 4, 8, 12, 24 (for 1 day), ...\n",
    "def get_strategy_stats(net_returns, trade_hours_freq, input_prices):\n",
    "    \n",
    "    bitcoin_returns_over_period = input_prices['BTCUSDT'] / input_prices['BTCUSDT'].shift() - 1\n",
    "    \n",
    "    alpha, beta = get_alpha_beta_to_asset(net_returns.iloc[2:],\n",
    "                                          bitcoin_returns_over_period.iloc[2:])\n",
    "    res = {\n",
    "        \"avg returns\": net_returns.mean() * 24 / trade_hours_freq * 365,\n",
    "        \"volatility\": net_returns.std() * np.sqrt(24 / trade_hours_freq * 365),\n",
    "        \"sharpe ratio\": net_returns.mean() / net_returns.std() * np.sqrt(24 / trade_hours_freq * 365),\n",
    "        \"max drawdown\": get_max_drawdown(net_returns),\n",
    "        \"max drawdown duration\": get_max_drawdown_duration(net_returns, trade_hours_freq),\n",
    "        \"alpha_BTC\": alpha,\n",
    "        \"beta_BTC\": beta,\n",
    "    }\n",
    "    return res"
   ]
  },
  {
   "cell_type": "code",
   "execution_count": null,
   "id": "8063f384",
   "metadata": {},
   "outputs": [],
   "source": []
  }
 ],
 "metadata": {
  "kernelspec": {
   "display_name": "Python 3 (ipykernel)",
   "language": "python",
   "name": "python3"
  },
  "language_info": {
   "codemirror_mode": {
    "name": "ipython",
    "version": 3
   },
   "file_extension": ".py",
   "mimetype": "text/x-python",
   "name": "python",
   "nbconvert_exporter": "python",
   "pygments_lexer": "ipython3",
   "version": "3.11.5"
  }
 },
 "nbformat": 4,
 "nbformat_minor": 5
}
